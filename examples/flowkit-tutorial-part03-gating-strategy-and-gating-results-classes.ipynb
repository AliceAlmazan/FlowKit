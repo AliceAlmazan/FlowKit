{
 "cells": [
  {
   "cell_type": "markdown",
   "metadata": {},
   "source": [
    "# FlowKit Tutorial - Part 3 - The `GatingStrategy` & `GatingResults` Classes\n",
    "\n",
    "https://flowkit.readthedocs.io/en/latest/?badge=latest\n",
    "\n",
    "So far, we've seen how to load FCS files using the Sample class and perform basic pre-processing like compensation and transformation for better visualization of event data. In part 3, we will explore using FlowKit for gating Sample event data using the `GatingStrategy` and `GatingResults` classes.\n",
    "\n",
    "If you have any questions about FlowKit, find any bugs, or feel something is missing from these tutorials [please submit an issue to the GitHub repository here](https://github.com/whitews/FlowKit/issues/new/).\n",
    "\n",
    "## Table of Contents\n",
    "\n",
    "* [`GatingStrategy` Class](#GatingStrategy-Class)\n",
    "  * [The Gate ID Concept](#gate-id-concept)\n",
    "  * [Create a GatingStrategy from a GatingMl-2.0 document](#create-gating-strategy-from-gml)\n",
    "    * [Retrieve the Gate Hierarchy](#retrieve-gate-hierarchy)\n",
    "    * [Export Gate Hierarchy as Image](#export-hierarchy-as-image)\n",
    "    * [Retrieve Gate IDs](#retrieve-gate-ids)\n",
    "    * [Retrieve Gate Instances](#retrieve-gate-instances)\n",
    "    * [Retrieve Compensation Matrices](#Retrieve-Compensation-Matrices)\n",
    "    * [Retrieve Transformations](#Retrieve-Transformations)\n",
    "* [`GatingResults` Class](#GatingResults-Class)\n",
    "  * [`GatingResults` Report](#GatingResults-Report)"
   ]
  },
  {
   "cell_type": "code",
   "execution_count": 1,
   "metadata": {},
   "outputs": [
    {
     "data": {
      "text/html": [
       "\n",
       "    <div class=\"bk-root\">\n",
       "        <a href=\"https://bokeh.org\" target=\"_blank\" class=\"bk-logo bk-logo-small bk-logo-notebook\"></a>\n",
       "        <span id=\"1002\">Loading BokehJS ...</span>\n",
       "    </div>"
      ]
     },
     "metadata": {},
     "output_type": "display_data"
    },
    {
     "data": {
      "application/javascript": [
       "\n",
       "(function(root) {\n",
       "  function now() {\n",
       "    return new Date();\n",
       "  }\n",
       "\n",
       "  const force = true;\n",
       "\n",
       "  if (typeof root._bokeh_onload_callbacks === \"undefined\" || force === true) {\n",
       "    root._bokeh_onload_callbacks = [];\n",
       "    root._bokeh_is_loading = undefined;\n",
       "  }\n",
       "\n",
       "  const JS_MIME_TYPE = 'application/javascript';\n",
       "  const HTML_MIME_TYPE = 'text/html';\n",
       "  const EXEC_MIME_TYPE = 'application/vnd.bokehjs_exec.v0+json';\n",
       "  const CLASS_NAME = 'output_bokeh rendered_html';\n",
       "\n",
       "  /**\n",
       "   * Render data to the DOM node\n",
       "   */\n",
       "  function render(props, node) {\n",
       "    const script = document.createElement(\"script\");\n",
       "    node.appendChild(script);\n",
       "  }\n",
       "\n",
       "  /**\n",
       "   * Handle when an output is cleared or removed\n",
       "   */\n",
       "  function handleClearOutput(event, handle) {\n",
       "    const cell = handle.cell;\n",
       "\n",
       "    const id = cell.output_area._bokeh_element_id;\n",
       "    const server_id = cell.output_area._bokeh_server_id;\n",
       "    // Clean up Bokeh references\n",
       "    if (id != null && id in Bokeh.index) {\n",
       "      Bokeh.index[id].model.document.clear();\n",
       "      delete Bokeh.index[id];\n",
       "    }\n",
       "\n",
       "    if (server_id !== undefined) {\n",
       "      // Clean up Bokeh references\n",
       "      const cmd_clean = \"from bokeh.io.state import curstate; print(curstate().uuid_to_server['\" + server_id + \"'].get_sessions()[0].document.roots[0]._id)\";\n",
       "      cell.notebook.kernel.execute(cmd_clean, {\n",
       "        iopub: {\n",
       "          output: function(msg) {\n",
       "            const id = msg.content.text.trim();\n",
       "            if (id in Bokeh.index) {\n",
       "              Bokeh.index[id].model.document.clear();\n",
       "              delete Bokeh.index[id];\n",
       "            }\n",
       "          }\n",
       "        }\n",
       "      });\n",
       "      // Destroy server and session\n",
       "      const cmd_destroy = \"import bokeh.io.notebook as ion; ion.destroy_server('\" + server_id + \"')\";\n",
       "      cell.notebook.kernel.execute(cmd_destroy);\n",
       "    }\n",
       "  }\n",
       "\n",
       "  /**\n",
       "   * Handle when a new output is added\n",
       "   */\n",
       "  function handleAddOutput(event, handle) {\n",
       "    const output_area = handle.output_area;\n",
       "    const output = handle.output;\n",
       "\n",
       "    // limit handleAddOutput to display_data with EXEC_MIME_TYPE content only\n",
       "    if ((output.output_type != \"display_data\") || (!Object.prototype.hasOwnProperty.call(output.data, EXEC_MIME_TYPE))) {\n",
       "      return\n",
       "    }\n",
       "\n",
       "    const toinsert = output_area.element.find(\".\" + CLASS_NAME.split(' ')[0]);\n",
       "\n",
       "    if (output.metadata[EXEC_MIME_TYPE][\"id\"] !== undefined) {\n",
       "      toinsert[toinsert.length - 1].firstChild.textContent = output.data[JS_MIME_TYPE];\n",
       "      // store reference to embed id on output_area\n",
       "      output_area._bokeh_element_id = output.metadata[EXEC_MIME_TYPE][\"id\"];\n",
       "    }\n",
       "    if (output.metadata[EXEC_MIME_TYPE][\"server_id\"] !== undefined) {\n",
       "      const bk_div = document.createElement(\"div\");\n",
       "      bk_div.innerHTML = output.data[HTML_MIME_TYPE];\n",
       "      const script_attrs = bk_div.children[0].attributes;\n",
       "      for (let i = 0; i < script_attrs.length; i++) {\n",
       "        toinsert[toinsert.length - 1].firstChild.setAttribute(script_attrs[i].name, script_attrs[i].value);\n",
       "        toinsert[toinsert.length - 1].firstChild.textContent = bk_div.children[0].textContent\n",
       "      }\n",
       "      // store reference to server id on output_area\n",
       "      output_area._bokeh_server_id = output.metadata[EXEC_MIME_TYPE][\"server_id\"];\n",
       "    }\n",
       "  }\n",
       "\n",
       "  function register_renderer(events, OutputArea) {\n",
       "\n",
       "    function append_mime(data, metadata, element) {\n",
       "      // create a DOM node to render to\n",
       "      const toinsert = this.create_output_subarea(\n",
       "        metadata,\n",
       "        CLASS_NAME,\n",
       "        EXEC_MIME_TYPE\n",
       "      );\n",
       "      this.keyboard_manager.register_events(toinsert);\n",
       "      // Render to node\n",
       "      const props = {data: data, metadata: metadata[EXEC_MIME_TYPE]};\n",
       "      render(props, toinsert[toinsert.length - 1]);\n",
       "      element.append(toinsert);\n",
       "      return toinsert\n",
       "    }\n",
       "\n",
       "    /* Handle when an output is cleared or removed */\n",
       "    events.on('clear_output.CodeCell', handleClearOutput);\n",
       "    events.on('delete.Cell', handleClearOutput);\n",
       "\n",
       "    /* Handle when a new output is added */\n",
       "    events.on('output_added.OutputArea', handleAddOutput);\n",
       "\n",
       "    /**\n",
       "     * Register the mime type and append_mime function with output_area\n",
       "     */\n",
       "    OutputArea.prototype.register_mime_type(EXEC_MIME_TYPE, append_mime, {\n",
       "      /* Is output safe? */\n",
       "      safe: true,\n",
       "      /* Index of renderer in `output_area.display_order` */\n",
       "      index: 0\n",
       "    });\n",
       "  }\n",
       "\n",
       "  // register the mime type if in Jupyter Notebook environment and previously unregistered\n",
       "  if (root.Jupyter !== undefined) {\n",
       "    const events = require('base/js/events');\n",
       "    const OutputArea = require('notebook/js/outputarea').OutputArea;\n",
       "\n",
       "    if (OutputArea.prototype.mime_types().indexOf(EXEC_MIME_TYPE) == -1) {\n",
       "      register_renderer(events, OutputArea);\n",
       "    }\n",
       "  }\n",
       "\n",
       "  \n",
       "  if (typeof (root._bokeh_timeout) === \"undefined\" || force === true) {\n",
       "    root._bokeh_timeout = Date.now() + 5000;\n",
       "    root._bokeh_failed_load = false;\n",
       "  }\n",
       "\n",
       "  const NB_LOAD_WARNING = {'data': {'text/html':\n",
       "     \"<div style='background-color: #fdd'>\\n\"+\n",
       "     \"<p>\\n\"+\n",
       "     \"BokehJS does not appear to have successfully loaded. If loading BokehJS from CDN, this \\n\"+\n",
       "     \"may be due to a slow or bad network connection. Possible fixes:\\n\"+\n",
       "     \"</p>\\n\"+\n",
       "     \"<ul>\\n\"+\n",
       "     \"<li>re-rerun `output_notebook()` to attempt to load from CDN again, or</li>\\n\"+\n",
       "     \"<li>use INLINE resources instead, as so:</li>\\n\"+\n",
       "     \"</ul>\\n\"+\n",
       "     \"<code>\\n\"+\n",
       "     \"from bokeh.resources import INLINE\\n\"+\n",
       "     \"output_notebook(resources=INLINE)\\n\"+\n",
       "     \"</code>\\n\"+\n",
       "     \"</div>\"}};\n",
       "\n",
       "  function display_loaded() {\n",
       "    const el = document.getElementById(\"1002\");\n",
       "    if (el != null) {\n",
       "      el.textContent = \"BokehJS is loading...\";\n",
       "    }\n",
       "    if (root.Bokeh !== undefined) {\n",
       "      if (el != null) {\n",
       "        el.textContent = \"BokehJS \" + root.Bokeh.version + \" successfully loaded.\";\n",
       "      }\n",
       "    } else if (Date.now() < root._bokeh_timeout) {\n",
       "      setTimeout(display_loaded, 100)\n",
       "    }\n",
       "  }\n",
       "\n",
       "\n",
       "  function run_callbacks() {\n",
       "    try {\n",
       "      root._bokeh_onload_callbacks.forEach(function(callback) {\n",
       "        if (callback != null)\n",
       "          callback();\n",
       "      });\n",
       "    } finally {\n",
       "      delete root._bokeh_onload_callbacks\n",
       "    }\n",
       "    console.debug(\"Bokeh: all callbacks have finished\");\n",
       "  }\n",
       "\n",
       "  function load_libs(css_urls, js_urls, callback) {\n",
       "    if (css_urls == null) css_urls = [];\n",
       "    if (js_urls == null) js_urls = [];\n",
       "\n",
       "    root._bokeh_onload_callbacks.push(callback);\n",
       "    if (root._bokeh_is_loading > 0) {\n",
       "      console.debug(\"Bokeh: BokehJS is being loaded, scheduling callback at\", now());\n",
       "      return null;\n",
       "    }\n",
       "    if (js_urls == null || js_urls.length === 0) {\n",
       "      run_callbacks();\n",
       "      return null;\n",
       "    }\n",
       "    console.debug(\"Bokeh: BokehJS not loaded, scheduling load and callback at\", now());\n",
       "    root._bokeh_is_loading = css_urls.length + js_urls.length;\n",
       "\n",
       "    function on_load() {\n",
       "      root._bokeh_is_loading--;\n",
       "      if (root._bokeh_is_loading === 0) {\n",
       "        console.debug(\"Bokeh: all BokehJS libraries/stylesheets loaded\");\n",
       "        run_callbacks()\n",
       "      }\n",
       "    }\n",
       "\n",
       "    function on_error(url) {\n",
       "      console.error(\"failed to load \" + url);\n",
       "    }\n",
       "\n",
       "    for (let i = 0; i < css_urls.length; i++) {\n",
       "      const url = css_urls[i];\n",
       "      const element = document.createElement(\"link\");\n",
       "      element.onload = on_load;\n",
       "      element.onerror = on_error.bind(null, url);\n",
       "      element.rel = \"stylesheet\";\n",
       "      element.type = \"text/css\";\n",
       "      element.href = url;\n",
       "      console.debug(\"Bokeh: injecting link tag for BokehJS stylesheet: \", url);\n",
       "      document.body.appendChild(element);\n",
       "    }\n",
       "\n",
       "    for (let i = 0; i < js_urls.length; i++) {\n",
       "      const url = js_urls[i];\n",
       "      const element = document.createElement('script');\n",
       "      element.onload = on_load;\n",
       "      element.onerror = on_error.bind(null, url);\n",
       "      element.async = false;\n",
       "      element.src = url;\n",
       "      console.debug(\"Bokeh: injecting script tag for BokehJS library: \", url);\n",
       "      document.head.appendChild(element);\n",
       "    }\n",
       "  };\n",
       "\n",
       "  function inject_raw_css(css) {\n",
       "    const element = document.createElement(\"style\");\n",
       "    element.appendChild(document.createTextNode(css));\n",
       "    document.body.appendChild(element);\n",
       "  }\n",
       "\n",
       "  \n",
       "  const js_urls = [\"https://cdn.bokeh.org/bokeh/dev/bokeh-2.4.0dev4.min.js\", \"https://cdn.bokeh.org/bokeh/dev/bokeh-gl-2.4.0dev4.min.js\", \"https://cdn.bokeh.org/bokeh/dev/bokeh-widgets-2.4.0dev4.min.js\", \"https://cdn.bokeh.org/bokeh/dev/bokeh-tables-2.4.0dev4.min.js\"];\n",
       "  const css_urls = [];\n",
       "  \n",
       "\n",
       "  const inline_js = [\n",
       "    function(Bokeh) {\n",
       "      Bokeh.set_log_level(\"info\");\n",
       "    },\n",
       "    function(Bokeh) {\n",
       "    \n",
       "    \n",
       "    }\n",
       "  ];\n",
       "\n",
       "  function run_inline_js() {\n",
       "    \n",
       "    if (root.Bokeh !== undefined || force === true) {\n",
       "      \n",
       "    for (let i = 0; i < inline_js.length; i++) {\n",
       "      inline_js[i].call(root, root.Bokeh);\n",
       "    }\n",
       "    if (force === true) {\n",
       "        display_loaded();\n",
       "      }} else if (Date.now() < root._bokeh_timeout) {\n",
       "      setTimeout(run_inline_js, 100);\n",
       "    } else if (!root._bokeh_failed_load) {\n",
       "      console.log(\"Bokeh: BokehJS failed to load within specified timeout.\");\n",
       "      root._bokeh_failed_load = true;\n",
       "    } else if (force !== true) {\n",
       "      const cell = $(document.getElementById(\"1002\")).parents('.cell').data().cell;\n",
       "      cell.output_area.append_execute_result(NB_LOAD_WARNING)\n",
       "    }\n",
       "\n",
       "  }\n",
       "\n",
       "  if (root._bokeh_is_loading === 0) {\n",
       "    console.debug(\"Bokeh: BokehJS loaded, going straight to plotting\");\n",
       "    run_inline_js();\n",
       "  } else {\n",
       "    load_libs(css_urls, js_urls, function() {\n",
       "      console.debug(\"Bokeh: BokehJS plotting callback run at\", now());\n",
       "      run_inline_js();\n",
       "    });\n",
       "  }\n",
       "}(window));"
      ],
      "application/vnd.bokehjs_load.v0+json": "\n(function(root) {\n  function now() {\n    return new Date();\n  }\n\n  const force = true;\n\n  if (typeof root._bokeh_onload_callbacks === \"undefined\" || force === true) {\n    root._bokeh_onload_callbacks = [];\n    root._bokeh_is_loading = undefined;\n  }\n\n  \n\n  \n  if (typeof (root._bokeh_timeout) === \"undefined\" || force === true) {\n    root._bokeh_timeout = Date.now() + 5000;\n    root._bokeh_failed_load = false;\n  }\n\n  const NB_LOAD_WARNING = {'data': {'text/html':\n     \"<div style='background-color: #fdd'>\\n\"+\n     \"<p>\\n\"+\n     \"BokehJS does not appear to have successfully loaded. If loading BokehJS from CDN, this \\n\"+\n     \"may be due to a slow or bad network connection. Possible fixes:\\n\"+\n     \"</p>\\n\"+\n     \"<ul>\\n\"+\n     \"<li>re-rerun `output_notebook()` to attempt to load from CDN again, or</li>\\n\"+\n     \"<li>use INLINE resources instead, as so:</li>\\n\"+\n     \"</ul>\\n\"+\n     \"<code>\\n\"+\n     \"from bokeh.resources import INLINE\\n\"+\n     \"output_notebook(resources=INLINE)\\n\"+\n     \"</code>\\n\"+\n     \"</div>\"}};\n\n  function display_loaded() {\n    const el = document.getElementById(\"1002\");\n    if (el != null) {\n      el.textContent = \"BokehJS is loading...\";\n    }\n    if (root.Bokeh !== undefined) {\n      if (el != null) {\n        el.textContent = \"BokehJS \" + root.Bokeh.version + \" successfully loaded.\";\n      }\n    } else if (Date.now() < root._bokeh_timeout) {\n      setTimeout(display_loaded, 100)\n    }\n  }\n\n\n  function run_callbacks() {\n    try {\n      root._bokeh_onload_callbacks.forEach(function(callback) {\n        if (callback != null)\n          callback();\n      });\n    } finally {\n      delete root._bokeh_onload_callbacks\n    }\n    console.debug(\"Bokeh: all callbacks have finished\");\n  }\n\n  function load_libs(css_urls, js_urls, callback) {\n    if (css_urls == null) css_urls = [];\n    if (js_urls == null) js_urls = [];\n\n    root._bokeh_onload_callbacks.push(callback);\n    if (root._bokeh_is_loading > 0) {\n      console.debug(\"Bokeh: BokehJS is being loaded, scheduling callback at\", now());\n      return null;\n    }\n    if (js_urls == null || js_urls.length === 0) {\n      run_callbacks();\n      return null;\n    }\n    console.debug(\"Bokeh: BokehJS not loaded, scheduling load and callback at\", now());\n    root._bokeh_is_loading = css_urls.length + js_urls.length;\n\n    function on_load() {\n      root._bokeh_is_loading--;\n      if (root._bokeh_is_loading === 0) {\n        console.debug(\"Bokeh: all BokehJS libraries/stylesheets loaded\");\n        run_callbacks()\n      }\n    }\n\n    function on_error(url) {\n      console.error(\"failed to load \" + url);\n    }\n\n    for (let i = 0; i < css_urls.length; i++) {\n      const url = css_urls[i];\n      const element = document.createElement(\"link\");\n      element.onload = on_load;\n      element.onerror = on_error.bind(null, url);\n      element.rel = \"stylesheet\";\n      element.type = \"text/css\";\n      element.href = url;\n      console.debug(\"Bokeh: injecting link tag for BokehJS stylesheet: \", url);\n      document.body.appendChild(element);\n    }\n\n    for (let i = 0; i < js_urls.length; i++) {\n      const url = js_urls[i];\n      const element = document.createElement('script');\n      element.onload = on_load;\n      element.onerror = on_error.bind(null, url);\n      element.async = false;\n      element.src = url;\n      console.debug(\"Bokeh: injecting script tag for BokehJS library: \", url);\n      document.head.appendChild(element);\n    }\n  };\n\n  function inject_raw_css(css) {\n    const element = document.createElement(\"style\");\n    element.appendChild(document.createTextNode(css));\n    document.body.appendChild(element);\n  }\n\n  \n  const js_urls = [\"https://cdn.bokeh.org/bokeh/dev/bokeh-2.4.0dev4.min.js\", \"https://cdn.bokeh.org/bokeh/dev/bokeh-gl-2.4.0dev4.min.js\", \"https://cdn.bokeh.org/bokeh/dev/bokeh-widgets-2.4.0dev4.min.js\", \"https://cdn.bokeh.org/bokeh/dev/bokeh-tables-2.4.0dev4.min.js\"];\n  const css_urls = [];\n  \n\n  const inline_js = [\n    function(Bokeh) {\n      Bokeh.set_log_level(\"info\");\n    },\n    function(Bokeh) {\n    \n    \n    }\n  ];\n\n  function run_inline_js() {\n    \n    if (root.Bokeh !== undefined || force === true) {\n      \n    for (let i = 0; i < inline_js.length; i++) {\n      inline_js[i].call(root, root.Bokeh);\n    }\n    if (force === true) {\n        display_loaded();\n      }} else if (Date.now() < root._bokeh_timeout) {\n      setTimeout(run_inline_js, 100);\n    } else if (!root._bokeh_failed_load) {\n      console.log(\"Bokeh: BokehJS failed to load within specified timeout.\");\n      root._bokeh_failed_load = true;\n    } else if (force !== true) {\n      const cell = $(document.getElementById(\"1002\")).parents('.cell').data().cell;\n      cell.output_area.append_execute_result(NB_LOAD_WARNING)\n    }\n\n  }\n\n  if (root._bokeh_is_loading === 0) {\n    console.debug(\"Bokeh: BokehJS loaded, going straight to plotting\");\n    run_inline_js();\n  } else {\n    load_libs(css_urls, js_urls, function() {\n      console.debug(\"Bokeh: BokehJS plotting callback run at\", now());\n      run_inline_js();\n    });\n  }\n}(window));"
     },
     "metadata": {},
     "output_type": "display_data"
    }
   ],
   "source": [
    "import bokeh\n",
    "from bokeh.plotting import show\n",
    "import matplotlib.pyplot as plt\n",
    "\n",
    "import flowkit as fk\n",
    "\n",
    "bokeh.io.output_notebook()\n",
    "%matplotlib inline\n",
    "\n",
    "_ = plt.ioff()"
   ]
  },
  {
   "cell_type": "code",
   "execution_count": 2,
   "metadata": {},
   "outputs": [
    {
     "data": {
      "text/plain": [
       "'0.8.2'"
      ]
     },
     "execution_count": 2,
     "metadata": {},
     "output_type": "execute_result"
    }
   ],
   "source": [
    "# check version so users can verify they have the same version/API\n",
    "fk.__version__"
   ]
  },
  {
   "cell_type": "markdown",
   "metadata": {},
   "source": [
    "## GatingStrategy Class\n",
    "\n",
    "A GatingStrategy object represents a collection of hierarchical gates along with the compensation and transformation information referenced by any gate Dimension objects (covered in Part 4 of the tutorial series). A GatingStrategy can be created from a valid GatingML document or built programmatically. Methods in the GatingStrategy class fall in to 3 main categories: adding gate-related objects, retrieving those objects, and applying the gating strategy to a Sample.\n",
    "\n",
    "Let's look at the documentation for the GatingStrategy class:"
   ]
  },
  {
   "cell_type": "code",
   "execution_count": 3,
   "metadata": {},
   "outputs": [
    {
     "name": "stdout",
     "output_type": "stream",
     "text": [
      "Help on class GatingStrategy in module flowkit._models.gating_strategy:\n",
      "\n",
      "class GatingStrategy(builtins.object)\n",
      " |  Represents a flow cytometry gating strategy, including instructions\n",
      " |  for compensation and transformation.\n",
      " |  \n",
      " |  Methods defined here:\n",
      " |  \n",
      " |  __init__(self)\n",
      " |      Initialize self.  See help(type(self)) for accurate signature.\n",
      " |  \n",
      " |  __repr__(self)\n",
      " |      Return repr(self).\n",
      " |  \n",
      " |  add_comp_matrix(self, matrix)\n",
      " |      Add a compensation matrix to the gating strategy, see `transforms` module. The matrix ID must be unique in the\n",
      " |      gating strategy.\n",
      " |      \n",
      " |      :param matrix: an instance of the Matrix class\n",
      " |      :return: None\n",
      " |  \n",
      " |  add_gate(self, gate, gate_path=None)\n",
      " |      Add a gate to the gating strategy, see `gates` module. The gate ID and gate path must be\n",
      " |      unique in the gating strategy. A gate with a unique gate ID and parent can be added without\n",
      " |      specifying a gate_path. However, if the gate's ID and parent combination already exists in\n",
      " |      the gating strategy, a unique gate path must be provided.\n",
      " |      \n",
      " |      :param gate: instance from a sub-class of the Gate class\n",
      " |      :param gate_path: complete tuple of gate IDs for unique set of gate ancestors.\n",
      " |          Required if gate.gate_name and gate.parent combination is ambiguous\n",
      " |      \n",
      " |      :return: None\n",
      " |  \n",
      " |  add_transform(self, transform)\n",
      " |      Add a transform to the gating strategy, see `transforms` module. The transform ID must be unique in the\n",
      " |      gating strategy.\n",
      " |      \n",
      " |      :param transform: instance from a sub-class of the Transform class\n",
      " |      :return: None\n",
      " |  \n",
      " |  clear_cache(self)\n",
      " |      Clears all cached pre-processed events stored in the GatingStrategy. This is useful to\n",
      " |      reduce memory usage after analyzing large data sets. Clearing the cache will not affect\n",
      " |      any results previously retrieved.\n",
      " |      :return: None\n",
      " |  \n",
      " |  export_gate_hierarchy_image(self, output_file_path)\n",
      " |      Saves an image of the gate hierarchy in many common formats\n",
      " |      according to the extension given in `output_file_path`, including\n",
      " |      \n",
      " |          - SVG  ('svg')\n",
      " |          - PNG  ('png')\n",
      " |          - JPEG ('jpeg', 'jpg')\n",
      " |          - TIFF ('tiff', 'tif')\n",
      " |          - GIF  ('gif')\n",
      " |          - PS   ('ps')\n",
      " |          - PDF  ('pdf')\n",
      " |      \n",
      " |      *Requires that `graphviz` is installed.*\n",
      " |      \n",
      " |      :param output_file_path: File path (including file name) of image\n",
      " |      :return: None\n",
      " |  \n",
      " |  gate_sample(self, sample, cache_events=False, verbose=False)\n",
      " |      Apply GatingStrategy to a Sample instance, returning a GatingResults instance.\n",
      " |      \n",
      " |      :param sample: an FCS Sample instance\n",
      " |      :param cache_events: Whether to cache pre-processed events (compensated and transformed). This can\n",
      " |          be useful to speed up processing of gates that share the same pre-processing instructions for\n",
      " |          the same channel data, but can consume significantly more memory space. See the related\n",
      " |          clear_cache method for additional information. Default is False.\n",
      " |      :param verbose: If True, print a line for each gate processed\n",
      " |      :return: GatingResults instance\n",
      " |  \n",
      " |  get_child_gates(self, gate_name, gate_path=None)\n",
      " |      Retrieve list of child gate instances by their parent's gate ID.\n",
      " |      \n",
      " |      :param gate_name: text string of a gate name\n",
      " |      :param gate_path: complete tuple of gate IDs for unique set of gate ancestors.\n",
      " |          Required if gate_name is ambiguous\n",
      " |      :return: list of Gate instances\n",
      " |      :raises KeyError: if gate ID is not found in gating strategy\n",
      " |  \n",
      " |  get_comp_matrix(self, matrix_id)\n",
      " |      Retrieve Matrix instance from gating strategy.\n",
      " |      \n",
      " |      :param matrix_id: String of a valid Matrix ID stored in the gating strategy\n",
      " |      :return: Matrix instance\n",
      " |  \n",
      " |  get_gate(self, gate_name, gate_path=None)\n",
      " |      Retrieve a gate instance by its gate ID.\n",
      " |      \n",
      " |      :param gate_name: text string of a gate name\n",
      " |      :param gate_path: complete tuple of gate IDs for unique set of gate ancestors.\n",
      " |          Required if gate_name is ambiguous\n",
      " |      :return: Subclass of a Gate object\n",
      " |      :raises KeyError: if gate ID is not found in gating strategy\n",
      " |  \n",
      " |  get_gate_hierarchy(self, output='ascii', **kwargs)\n",
      " |      Retrieve the hierarchy of gates in the gating strategy in several formats, including text,\n",
      " |      dictionary, or JSON. If output == 'json', extra keyword arguments are passed to json.dumps\n",
      " |      \n",
      " |      :param output: Determines format of hierarchy returned, either 'ascii',\n",
      " |          'dict', or 'JSON' (default is 'ascii')\n",
      " |      :return: gate hierarchy as a text string or a dictionary\n",
      " |  \n",
      " |  get_gate_ids(self)\n",
      " |      Retrieve the list of gate IDs (with ancestors) for the gating strategy\n",
      " |      \n",
      " |      :return: list of tuples (1st item is gate name string, 2nd item is a list of ancestor gate names)\n",
      " |  \n",
      " |  get_parent_gate(self, gate_name, gate_path=None)\n",
      " |      Retrieve the parent Gate instance for the given gate ID.\n",
      " |      \n",
      " |      :param gate_name: text string of a gate name\n",
      " |      :param gate_path: complete tuple of gate IDs for unique set of gate ancestors.\n",
      " |          Required if gate_name is ambiguous\n",
      " |      :return: Subclassed Gate instance\n",
      " |  \n",
      " |  get_root_gates(self)\n",
      " |      Retrieve list of root-level gate instances.\n",
      " |      \n",
      " |      :return: list of Gate instances\n",
      " |  \n",
      " |  get_transform(self, transform_id)\n",
      " |      Retrieve transform instance from gating strategy.\n",
      " |      \n",
      " |      :param transform_id: String of a valid transform ID stored in the gating strategy\n",
      " |      :return: Instance of a Transform sub-class\n",
      " |  \n",
      " |  ----------------------------------------------------------------------\n",
      " |  Data descriptors defined here:\n",
      " |  \n",
      " |  __dict__\n",
      " |      dictionary for instance variables (if defined)\n",
      " |  \n",
      " |  __weakref__\n",
      " |      list of weak references to the object (if defined)\n",
      "\n"
     ]
    }
   ],
   "source": [
    "help(fk.GatingStrategy)"
   ]
  },
  {
   "cell_type": "markdown",
   "metadata": {},
   "source": [
    "<a id=\"gate-id-concept\"></a>\n",
    "### The Gate ID Concept\n",
    "\n",
    "Quite a lot of thought has been put into the design of the GatingStrategy class to support the various ways gates are used and processed in typical FCM workflows. The most important concept to understand when interacting with a GatingStrategy instance is how gate IDs are used to reference gates and their position within the gating hierarchy. \n",
    "\n",
    "For example, gates are sometimes \"re-used\" in different branches of the hierarchy, like the same quadrant gate applied to each of the CD4+ and CD8+ populations. Because of this, the name of the gate is not sufficient to fully identify it. Further, simply coupling the gate name with its parent gate name can also become problematic if the nested gates are re-used.\n",
    "\n",
    "The GatingStrategy class solves this ambiguity by defining a gate ID as a tuple combining the gate name and the full ancestor path of gate names, similar in concept to a computer file system. However, this approach can be cumbersome for the common case where gates are not re-used. Therefore, the GatingStrategy allows for referencing gates simply by their gate name string for cases where that name is not re-used within the gate hierarchy. For ambiguous cases, referencing a gate requires the full gate ID tuple of the gate name and gate path. \n",
    "\n",
    "We will see how this works in practice later, but for now let's create a GatingStrategy from an existing GatingML-2.0 document."
   ]
  },
  {
   "cell_type": "markdown",
   "metadata": {},
   "source": [
    "<a id=\"create-gating-strategy-from-gml\"></a>\n",
    "### Create a GatingStrategy from a GatingML-2.0 Document"
   ]
  },
  {
   "cell_type": "code",
   "execution_count": 4,
   "metadata": {},
   "outputs": [],
   "source": [
    "gml_path = '../examples/data/8_color_data_set/8_color_ICS.xml'\n",
    "g_strat = fk.parse_gating_xml(gml_path)"
   ]
  },
  {
   "cell_type": "code",
   "execution_count": 5,
   "metadata": {},
   "outputs": [
    {
     "data": {
      "text/plain": [
       "GatingStrategy(6 gates, 3 transforms, 1 compensations)"
      ]
     },
     "execution_count": 5,
     "metadata": {},
     "output_type": "execute_result"
    }
   ],
   "source": [
    "g_strat"
   ]
  },
  {
   "cell_type": "markdown",
   "metadata": {},
   "source": [
    "The string representation reveals this GatingStrategy has 6 gates, 3 transforms, and 1 compensation (Matrix instance)."
   ]
  },
  {
   "cell_type": "markdown",
   "metadata": {},
   "source": [
    "<a id=\"retrieve-gate-hierarchy\"></a>\n",
    "#### Retrieve the Gate Hierarchy\n",
    "\n",
    "We can retrieve the gate hierarchy in a variety of formats using the `get_gate_hiearchy` method. The method takes the following `output` options:\n",
    "\n",
    "* `ascii`: Generates a text-based representation of the gate tree, and is likey the most human-readable for reviewing the hierarchy. This is the default option.\n",
    "* `json`: Generates a JSON representation of the gate tree, useful for programmatic parsing, especially outside of Python. When this option is used, all extra keywords are passed to `json.dumps` (e.g. `indent=2` works to indent the output).\n",
    "* `dict`: Generates a Python dictionary representation of the gate tree, useful for programmatic parsing within Python."
   ]
  },
  {
   "cell_type": "code",
   "execution_count": 6,
   "metadata": {},
   "outputs": [],
   "source": [
    "text = g_strat.get_gate_hierarchy(output='ascii')"
   ]
  },
  {
   "cell_type": "code",
   "execution_count": 7,
   "metadata": {},
   "outputs": [
    {
     "name": "stdout",
     "output_type": "stream",
     "text": [
      "root\n",
      "╰── TimeGate\n",
      "    ╰── Singlets\n",
      "        ╰── aAmine-\n",
      "            ╰── CD3-pos\n",
      "                ├── CD4-pos\n",
      "                ╰── CD8-pos\n"
     ]
    }
   ],
   "source": [
    "print(text)"
   ]
  },
  {
   "cell_type": "code",
   "execution_count": 8,
   "metadata": {},
   "outputs": [],
   "source": [
    "gs_json = g_strat.get_gate_hierarchy(output='json', indent=2)"
   ]
  },
  {
   "cell_type": "code",
   "execution_count": 9,
   "metadata": {
    "scrolled": true
   },
   "outputs": [
    {
     "name": "stdout",
     "output_type": "stream",
     "text": [
      "{\n",
      "  \"name\": \"root\",\n",
      "  \"children\": [\n",
      "    {\n",
      "      \"name\": \"TimeGate\",\n",
      "      \"children\": [\n",
      "        {\n",
      "          \"name\": \"Singlets\",\n",
      "          \"children\": [\n",
      "            {\n",
      "              \"name\": \"aAmine-\",\n",
      "              \"children\": [\n",
      "                {\n",
      "                  \"name\": \"CD3-pos\",\n",
      "                  \"children\": [\n",
      "                    {\n",
      "                      \"name\": \"CD4-pos\"\n",
      "                    },\n",
      "                    {\n",
      "                      \"name\": \"CD8-pos\"\n",
      "                    }\n",
      "                  ]\n",
      "                }\n",
      "              ]\n",
      "            }\n",
      "          ]\n",
      "        }\n",
      "      ]\n",
      "    }\n",
      "  ]\n",
      "}\n"
     ]
    }
   ],
   "source": [
    "print(gs_json)"
   ]
  },
  {
   "cell_type": "code",
   "execution_count": 10,
   "metadata": {},
   "outputs": [],
   "source": [
    "gs_dict = g_strat.get_gate_hierarchy(output='dict')"
   ]
  },
  {
   "cell_type": "code",
   "execution_count": 11,
   "metadata": {
    "scrolled": true
   },
   "outputs": [
    {
     "data": {
      "text/plain": [
       "{'name': 'root',\n",
       " 'children': [{'gate': GMLRectangleGate(TimeGate, parent: None, dims: 2),\n",
       "   'name': 'TimeGate',\n",
       "   'children': [{'gate': GMLPolygonGate(Singlets, parent: TimeGate, vertices: 8),\n",
       "     'name': 'Singlets',\n",
       "     'children': [{'gate': GMLPolygonGate(aAmine-, parent: Singlets, vertices: 10),\n",
       "       'name': 'aAmine-',\n",
       "       'children': [{'gate': GMLPolygonGate(CD3-pos, parent: aAmine-, vertices: 8),\n",
       "         'name': 'CD3-pos',\n",
       "         'children': [{'gate': GMLPolygonGate(CD4-pos, parent: CD3-pos, vertices: 12),\n",
       "           'name': 'CD4-pos'},\n",
       "          {'gate': GMLPolygonGate(CD8-pos, parent: CD3-pos, vertices: 6),\n",
       "           'name': 'CD8-pos'}]}]}]}]}]}"
      ]
     },
     "execution_count": 11,
     "metadata": {},
     "output_type": "execute_result"
    }
   ],
   "source": [
    "gs_dict"
   ]
  },
  {
   "cell_type": "markdown",
   "metadata": {},
   "source": [
    "<a id=\"export-hierarchy-as-image\"></a>\n",
    "#### Exporting Gate Hierarchy as Image (requires the `graphviz` package)"
   ]
  },
  {
   "cell_type": "code",
   "execution_count": 12,
   "metadata": {},
   "outputs": [],
   "source": [
    "g_strat.export_gate_hierarchy_image('gs.png')"
   ]
  },
  {
   "cell_type": "code",
   "execution_count": 13,
   "metadata": {},
   "outputs": [],
   "source": [
    "img = plt.imread('gs.png')"
   ]
  },
  {
   "cell_type": "code",
   "execution_count": 14,
   "metadata": {},
   "outputs": [
    {
     "data": {
      "image/png": "[encoded data removed]",
      "text/plain": [
       "<Figure size 864x576 with 1 Axes>"
      ]
     },
     "metadata": {
      "needs_background": "light"
     },
     "output_type": "display_data"
    }
   ],
   "source": [
    "f = plt.figure(figsize=(12, 8))\n",
    "ax = f.subplots(1)\n",
    "ax.get_xaxis().set_visible(False)\n",
    "ax.get_yaxis().set_visible(False)\n",
    "\n",
    "plt.imshow(img)\n",
    "plt.tight_layout()\n",
    "plt.show()"
   ]
  },
  {
   "cell_type": "markdown",
   "metadata": {},
   "source": [
    "<a id=\"retrieve-gate-ids\"></a>\n",
    "#### Retrieve all Gate IDs (with their gate paths)"
   ]
  },
  {
   "cell_type": "code",
   "execution_count": 15,
   "metadata": {
    "scrolled": true
   },
   "outputs": [
    {
     "data": {
      "text/plain": [
       "[('TimeGate', ('root',)),\n",
       " ('Singlets', ('root', 'TimeGate')),\n",
       " ('aAmine-', ('root', 'TimeGate', 'Singlets')),\n",
       " ('CD3-pos', ('root', 'TimeGate', 'Singlets', 'aAmine-')),\n",
       " ('CD4-pos', ('root', 'TimeGate', 'Singlets', 'aAmine-', 'CD3-pos')),\n",
       " ('CD8-pos', ('root', 'TimeGate', 'Singlets', 'aAmine-', 'CD3-pos'))]"
      ]
     },
     "execution_count": 15,
     "metadata": {},
     "output_type": "execute_result"
    }
   ],
   "source": [
    "g_strat.get_gate_ids()"
   ]
  },
  {
   "cell_type": "markdown",
   "metadata": {},
   "source": [
    "<a id=\"retrieve-gate-instances\"></a>\n",
    "#### Retrieve Gate Instances\n",
    "\n",
    "Below we show retrieving a Gate instance by its gate name, which works here because the name is unambigious within this gate hierarchy. We can also retrieve a gate's parent Gate instance or the list of child gates."
   ]
  },
  {
   "cell_type": "code",
   "execution_count": 16,
   "metadata": {},
   "outputs": [
    {
     "data": {
      "text/plain": [
       "GMLRectangleGate(TimeGate, parent: None, dims: 2)"
      ]
     },
     "execution_count": 16,
     "metadata": {},
     "output_type": "execute_result"
    }
   ],
   "source": [
    "g_strat.get_gate('TimeGate')"
   ]
  },
  {
   "cell_type": "code",
   "execution_count": 17,
   "metadata": {},
   "outputs": [
    {
     "data": {
      "text/plain": [
       "GMLPolygonGate(aAmine-, parent: Singlets, vertices: 10)"
      ]
     },
     "execution_count": 17,
     "metadata": {},
     "output_type": "execute_result"
    }
   ],
   "source": [
    "g_strat.get_parent_gate('CD3-pos')"
   ]
  },
  {
   "cell_type": "code",
   "execution_count": 18,
   "metadata": {},
   "outputs": [
    {
     "data": {
      "text/plain": [
       "[GMLPolygonGate(CD4-pos, parent: CD3-pos, vertices: 12),\n",
       " GMLPolygonGate(CD8-pos, parent: CD3-pos, vertices: 6)]"
      ]
     },
     "execution_count": 18,
     "metadata": {},
     "output_type": "execute_result"
    }
   ],
   "source": [
    "g_strat.get_child_gates('CD3-pos')"
   ]
  },
  {
   "cell_type": "markdown",
   "metadata": {},
   "source": [
    "#### Retrieve Compensation Matrices"
   ]
  },
  {
   "cell_type": "code",
   "execution_count": 19,
   "metadata": {},
   "outputs": [
    {
     "data": {
      "text/plain": [
       "{'Acquisition-defined': Matrix(Acquisition-defined, dims: 8)}"
      ]
     },
     "execution_count": 19,
     "metadata": {},
     "output_type": "execute_result"
    }
   ],
   "source": [
    "g_strat.comp_matrices"
   ]
  },
  {
   "cell_type": "markdown",
   "metadata": {},
   "source": [
    "#### Retrieve Transformations"
   ]
  },
  {
   "cell_type": "code",
   "execution_count": 20,
   "metadata": {},
   "outputs": [
    {
     "data": {
      "text/plain": [
       "{'scatter-lin': LinearGMLTransform(scatter-lin, t: 262144.0, a: 0.0),\n",
       " 'logicle-default': LogicleGMLTransform(logicle-default, t: 262144.0, w: 1.0, m: 4.418539922, a: 0.0),\n",
       " 'Time': LinearGMLTransform(Time, t: 72.0, a: 0.8511997311)}"
      ]
     },
     "execution_count": 20,
     "metadata": {},
     "output_type": "execute_result"
    }
   ],
   "source": [
    "g_strat.transformations"
   ]
  },
  {
   "cell_type": "markdown",
   "metadata": {},
   "source": [
    "## GatingResults Class\n",
    "\n",
    "A GatingResults instance is returned from calling the GatingStrategy `gate_sample` method on a Sample instance, and is never created by an end user directly. A GatingResults instance contains the results of applying the gating hierarchy on a single Sample. Let's load a Sample and apply the previous GatingStrategy via the `gate_sample` method (setting `verbose=True` to print out each gate as it is processed). "
   ]
  },
  {
   "cell_type": "code",
   "execution_count": 21,
   "metadata": {},
   "outputs": [],
   "source": [
    "sample = fk.Sample(\"data/8_color_data_set/fcs_files/101_DEN084Y5_15_E01_008_clean.fcs\")"
   ]
  },
  {
   "cell_type": "code",
   "execution_count": 22,
   "metadata": {},
   "outputs": [
    {
     "name": "stdout",
     "output_type": "stream",
     "text": [
      "101_DEN084Y5_15_E01_008_clean.fcs: processing gate TimeGate\n",
      "101_DEN084Y5_15_E01_008_clean.fcs: processing gate Singlets\n",
      "101_DEN084Y5_15_E01_008_clean.fcs: processing gate aAmine-\n",
      "101_DEN084Y5_15_E01_008_clean.fcs: processing gate CD3-pos\n",
      "101_DEN084Y5_15_E01_008_clean.fcs: processing gate CD4-pos\n",
      "101_DEN084Y5_15_E01_008_clean.fcs: processing gate CD8-pos\n"
     ]
    }
   ],
   "source": [
    "gs_results = g_strat.gate_sample(sample, verbose=True)"
   ]
  },
  {
   "cell_type": "code",
   "execution_count": 23,
   "metadata": {
    "scrolled": false
   },
   "outputs": [
    {
     "name": "stdout",
     "output_type": "stream",
     "text": [
      "Help on GatingResults in module flowkit._models.gating_results object:\n",
      "\n",
      "class GatingResults(builtins.object)\n",
      " |  GatingResults(results_dict, sample_id)\n",
      " |  \n",
      " |  A GatingResults instance is returned from the GatingStrategy `gate_samples` method\n",
      " |  as well as the Session `get_gating_results` method. End users will never create an\n",
      " |  instance of GatingResults directly, only via these GatingStrategy and Session\n",
      " |  methods. However, there are several GatingResults methods to retrieve the results.\n",
      " |  \n",
      " |  Methods defined here:\n",
      " |  \n",
      " |  __init__(self, results_dict, sample_id)\n",
      " |      Initialize self.  See help(type(self)) for accurate signature.\n",
      " |  \n",
      " |  get_gate_absolute_percent(self, gate_name, gate_path=None)\n",
      " |      Retrieve percent of events, relative to the total sample events, of the specified gate ID for the\n",
      " |      gating results sample\n",
      " |      \n",
      " |      :param gate_name: text string of a gate name\n",
      " |      :param gate_path: tuple of ancestor gate names\n",
      " |      :return: floating point number of the absolute percent\n",
      " |  \n",
      " |  get_gate_count(self, gate_name, gate_path=None)\n",
      " |      Retrieve event count for the specified gate ID for the gating results sample\n",
      " |      \n",
      " |      :param gate_name: text string of a gate name\n",
      " |      :param gate_path: tuple of ancestor gate names\n",
      " |      :return: integer count of events in gate ID\n",
      " |  \n",
      " |  get_gate_membership(self, gate_name, gate_path=None)\n",
      " |      Retrieve a boolean array indicating gate membership for the events in the GatingResults sample.\n",
      " |      Note, the same gate ID may be found in multiple gate paths, i.e. the gate ID can be ambiguous.\n",
      " |      In this case, specify the full gate path to retrieve gate indices.\n",
      " |      \n",
      " |      :param gate_name: text string of a gate name\n",
      " |      :param gate_path: A tuple of ancestor gate IDs for the given gate ID. Alternatively, a string path delimited\n",
      " |          by forward slashes can also be given, e.g. ('/root/singlets/lymph/live')\n",
      " |      :return: NumPy boolean array (length of sample event count)\n",
      " |  \n",
      " |  get_gate_relative_percent(self, gate_name, gate_path=None)\n",
      " |      Retrieve percent of events, relative to parent gate, of the specified gate ID for the gating results sample\n",
      " |      \n",
      " |      :param gate_name: text string of a gate name\n",
      " |      :param gate_path: tuple of ancestor gate names\n",
      " |      :return: floating point number of the relative percent\n",
      " |  \n",
      " |  ----------------------------------------------------------------------\n",
      " |  Data descriptors defined here:\n",
      " |  \n",
      " |  __dict__\n",
      " |      dictionary for instance variables (if defined)\n",
      " |  \n",
      " |  __weakref__\n",
      " |      list of weak references to the object (if defined)\n",
      "\n"
     ]
    }
   ],
   "source": [
    "help(gs_results)"
   ]
  },
  {
   "cell_type": "code",
   "execution_count": 24,
   "metadata": {},
   "outputs": [
    {
     "data": {
      "text/plain": [
       "'101_DEN084Y5_15_E01_008_clean.fcs'"
      ]
     },
     "execution_count": 24,
     "metadata": {},
     "output_type": "execute_result"
    }
   ],
   "source": [
    "# get the Sample ID for the GatingResults instance\n",
    "gs_results.sample_id"
   ]
  },
  {
   "cell_type": "markdown",
   "metadata": {},
   "source": [
    "### GatingResults Report\n",
    "\n",
    "As we can see, the GatingResults class is relatively simple, and it's main purpose is to provide a Pandas DataFrame of the results via the `report` attribute. The report contains a row for every gate and includes the following columns:\n",
    "\n",
    "* **sample**: the Sample ID of the processed Sample instance\n",
    "* **gate_path**: tuple of the gate path\n",
    "* **gate_name**: the name of the gate (or name of the Quadrant of a QuadrantGate)\n",
    "* **gate_type**: The class name of the gate (RectangleGate, PolygonGate, etc.)\n",
    "* **quadrant_parent**: Quadrant gates are a bit different, they are really a collection of gates. This field would contain the QuadrantGate name, and each Quadrant name would be in the gate_name field.\n",
    "* **parent**: the gate name of the parent gate\n",
    "* **count**: the absolute event count for events inside the gate\n",
    "* **absolute_percent**: the percentage of events inside the gate relative to the total event count in the Sample\n",
    "* **relative_percent**: the percentage of events inside the gate relative to the number of events in the parent gate\n",
    "* **level**: the depth of the gate in the gate tree relative to the root of the tree"
   ]
  },
  {
   "cell_type": "code",
   "execution_count": 25,
   "metadata": {
    "scrolled": false
   },
   "outputs": [
    {
     "data": {
      "text/html": [
       "<div>\n",
       "<style scoped>\n",
       "    .dataframe tbody tr th:only-of-type {\n",
       "        vertical-align: middle;\n",
       "    }\n",
       "\n",
       "    .dataframe tbody tr th {\n",
       "        vertical-align: top;\n",
       "    }\n",
       "\n",
       "    .dataframe thead th {\n",
       "        text-align: right;\n",
       "    }\n",
       "</style>\n",
       "<table border=\"1\" class=\"dataframe\">\n",
       "  <thead>\n",
       "    <tr style=\"text-align: right;\">\n",
       "      <th></th>\n",
       "      <th>sample</th>\n",
       "      <th>gate_path</th>\n",
       "      <th>gate_name</th>\n",
       "      <th>gate_type</th>\n",
       "      <th>quadrant_parent</th>\n",
       "      <th>parent</th>\n",
       "      <th>count</th>\n",
       "      <th>absolute_percent</th>\n",
       "      <th>relative_percent</th>\n",
       "      <th>level</th>\n",
       "    </tr>\n",
       "  </thead>\n",
       "  <tbody>\n",
       "    <tr>\n",
       "      <th>0</th>\n",
       "      <td>101_DEN084Y5_15_E01_008_clean.fcs</td>\n",
       "      <td>(root,)</td>\n",
       "      <td>TimeGate</td>\n",
       "      <td>RectangleGate</td>\n",
       "      <td>None</td>\n",
       "      <td>None</td>\n",
       "      <td>290166</td>\n",
       "      <td>99.997932</td>\n",
       "      <td>99.997932</td>\n",
       "      <td>1</td>\n",
       "    </tr>\n",
       "    <tr>\n",
       "      <th>1</th>\n",
       "      <td>101_DEN084Y5_15_E01_008_clean.fcs</td>\n",
       "      <td>(root, TimeGate)</td>\n",
       "      <td>Singlets</td>\n",
       "      <td>PolygonGate</td>\n",
       "      <td>None</td>\n",
       "      <td>TimeGate</td>\n",
       "      <td>239001</td>\n",
       "      <td>82.365287</td>\n",
       "      <td>82.366990</td>\n",
       "      <td>2</td>\n",
       "    </tr>\n",
       "    <tr>\n",
       "      <th>2</th>\n",
       "      <td>101_DEN084Y5_15_E01_008_clean.fcs</td>\n",
       "      <td>(root, TimeGate, Singlets)</td>\n",
       "      <td>aAmine-</td>\n",
       "      <td>PolygonGate</td>\n",
       "      <td>None</td>\n",
       "      <td>Singlets</td>\n",
       "      <td>164655</td>\n",
       "      <td>56.743931</td>\n",
       "      <td>68.893017</td>\n",
       "      <td>3</td>\n",
       "    </tr>\n",
       "    <tr>\n",
       "      <th>3</th>\n",
       "      <td>101_DEN084Y5_15_E01_008_clean.fcs</td>\n",
       "      <td>(root, TimeGate, Singlets, aAmine-)</td>\n",
       "      <td>CD3-pos</td>\n",
       "      <td>PolygonGate</td>\n",
       "      <td>None</td>\n",
       "      <td>aAmine-</td>\n",
       "      <td>133670</td>\n",
       "      <td>46.065782</td>\n",
       "      <td>81.181865</td>\n",
       "      <td>4</td>\n",
       "    </tr>\n",
       "    <tr>\n",
       "      <th>4</th>\n",
       "      <td>101_DEN084Y5_15_E01_008_clean.fcs</td>\n",
       "      <td>(root, TimeGate, Singlets, aAmine-, CD3-pos)</td>\n",
       "      <td>CD4-pos</td>\n",
       "      <td>PolygonGate</td>\n",
       "      <td>None</td>\n",
       "      <td>CD3-pos</td>\n",
       "      <td>82484</td>\n",
       "      <td>28.425899</td>\n",
       "      <td>61.707189</td>\n",
       "      <td>5</td>\n",
       "    </tr>\n",
       "    <tr>\n",
       "      <th>5</th>\n",
       "      <td>101_DEN084Y5_15_E01_008_clean.fcs</td>\n",
       "      <td>(root, TimeGate, Singlets, aAmine-, CD3-pos)</td>\n",
       "      <td>CD8-pos</td>\n",
       "      <td>PolygonGate</td>\n",
       "      <td>None</td>\n",
       "      <td>CD3-pos</td>\n",
       "      <td>47165</td>\n",
       "      <td>16.254153</td>\n",
       "      <td>35.284656</td>\n",
       "      <td>5</td>\n",
       "    </tr>\n",
       "  </tbody>\n",
       "</table>\n",
       "</div>"
      ],
      "text/plain": [
       "                              sample  \\\n",
       "0  101_DEN084Y5_15_E01_008_clean.fcs   \n",
       "1  101_DEN084Y5_15_E01_008_clean.fcs   \n",
       "2  101_DEN084Y5_15_E01_008_clean.fcs   \n",
       "3  101_DEN084Y5_15_E01_008_clean.fcs   \n",
       "4  101_DEN084Y5_15_E01_008_clean.fcs   \n",
       "5  101_DEN084Y5_15_E01_008_clean.fcs   \n",
       "\n",
       "                                      gate_path gate_name      gate_type  \\\n",
       "0                                       (root,)  TimeGate  RectangleGate   \n",
       "1                              (root, TimeGate)  Singlets    PolygonGate   \n",
       "2                    (root, TimeGate, Singlets)   aAmine-    PolygonGate   \n",
       "3           (root, TimeGate, Singlets, aAmine-)   CD3-pos    PolygonGate   \n",
       "4  (root, TimeGate, Singlets, aAmine-, CD3-pos)   CD4-pos    PolygonGate   \n",
       "5  (root, TimeGate, Singlets, aAmine-, CD3-pos)   CD8-pos    PolygonGate   \n",
       "\n",
       "  quadrant_parent    parent   count  absolute_percent  relative_percent  level  \n",
       "0            None      None  290166         99.997932         99.997932      1  \n",
       "1            None  TimeGate  239001         82.365287         82.366990      2  \n",
       "2            None  Singlets  164655         56.743931         68.893017      3  \n",
       "3            None   aAmine-  133670         46.065782         81.181865      4  \n",
       "4            None   CD3-pos   82484         28.425899         61.707189      5  \n",
       "5            None   CD3-pos   47165         16.254153         35.284656      5  "
      ]
     },
     "execution_count": 25,
     "metadata": {},
     "output_type": "execute_result"
    }
   ],
   "source": [
    "gs_results.report"
   ]
  },
  {
   "cell_type": "markdown",
   "metadata": {},
   "source": [
    "<a id=\"gate-membership\"></a>\n",
    "### Retrieve gate membership\n",
    "\n",
    "The `get_gate_membership` method returns a Boolean array representing which of the Sample events are inside the specified gate."
   ]
  },
  {
   "cell_type": "code",
   "execution_count": 26,
   "metadata": {},
   "outputs": [],
   "source": [
    "cd3_pos_gate_membership = gs_results.get_gate_membership('CD3-pos')"
   ]
  },
  {
   "cell_type": "code",
   "execution_count": 27,
   "metadata": {},
   "outputs": [
    {
     "data": {
      "text/plain": [
       "array([False, False, False, ..., False, False,  True])"
      ]
     },
     "execution_count": 27,
     "metadata": {},
     "output_type": "execute_result"
    }
   ],
   "source": [
    "cd3_pos_gate_membership"
   ]
  },
  {
   "cell_type": "code",
   "execution_count": 28,
   "metadata": {},
   "outputs": [
    {
     "data": {
      "text/plain": [
       "133670"
      ]
     },
     "execution_count": 28,
     "metadata": {},
     "output_type": "execute_result"
    }
   ],
   "source": [
    "cd3_pos_gate_membership.sum()"
   ]
  },
  {
   "cell_type": "markdown",
   "metadata": {},
   "source": [
    "We can then use the membership array to retrieve those events from the Sample\n",
    "\n",
    "**Note: The events we extract here are not necessarily pre-processed the same as they would be given the instructions of the gate, even if using the 'comp' or 'xform' source option.  "
   ]
  },
  {
   "cell_type": "code",
   "execution_count": 29,
   "metadata": {},
   "outputs": [],
   "source": [
    "gated_raw_events = sample.get_events(source='raw')\n",
    "gated_raw_events = gated_raw_events[cd3_pos_gate_membership]"
   ]
  },
  {
   "cell_type": "code",
   "execution_count": 30,
   "metadata": {},
   "outputs": [
    {
     "data": {
      "text/plain": [
       "(133670, 15)"
      ]
     },
     "execution_count": 30,
     "metadata": {},
     "output_type": "execute_result"
    }
   ],
   "source": [
    "gated_raw_events.shape"
   ]
  },
  {
   "cell_type": "code",
   "execution_count": null,
   "metadata": {},
   "outputs": [],
   "source": []
  }
 ],
 "metadata": {
  "kernelspec": {
   "display_name": "Python 3 (ipykernel)",
   "language": "python",
   "name": "python3"
  },
  "language_info": {
   "codemirror_mode": {
    "name": "ipython",
    "version": 3
   },
   "file_extension": ".py",
   "mimetype": "text/x-python",
   "name": "python",
   "nbconvert_exporter": "python",
   "pygments_lexer": "ipython3",
   "version": "3.9.5"
  }
 },
 "nbformat": 4,
 "nbformat_minor": 2
}
