{
 "cells": [
  {
   "cell_type": "code",
   "execution_count": 1,
   "metadata": {},
   "outputs": [],
   "source": [
    "import os\n",
    "import pandas as pd\n",
    "\n",
    "import flowkit as fk\n",
    "\n",
    "%matplotlib inline"
   ]
  },
  {
   "cell_type": "markdown",
   "metadata": {},
   "source": [
    "### Load FlowJo Workspace"
   ]
  },
  {
   "cell_type": "code",
   "execution_count": 2,
   "metadata": {},
   "outputs": [],
   "source": [
    "base_dir = \"data/8_color_data_set\"\n",
    "\n",
    "sample_path = os.path.join(base_dir, \"fcs_files\")\n",
    "wsp_path = os.path.join(base_dir, \"8_color_ICS.wsp\")"
   ]
  },
  {
   "cell_type": "code",
   "execution_count": 3,
   "metadata": {},
   "outputs": [],
   "source": [
    "fks_fj = fk.Session(sample_path)\n",
    "fks_fj.import_flowjo_workspace(wsp_path)"
   ]
  },
  {
   "cell_type": "code",
   "execution_count": 4,
   "metadata": {},
   "outputs": [
    {
     "data": {
      "text/plain": [
       "['101_DEN084Y5_15_E03_009_clean.fcs',\n",
       " '101_DEN084Y5_15_E01_008_clean.fcs',\n",
       " '101_DEN084Y5_15_E05_010_clean.fcs']"
      ]
     },
     "execution_count": 4,
     "metadata": {},
     "output_type": "execute_result"
    }
   ],
   "source": [
    "fks_fj.get_sample_ids()"
   ]
  },
  {
   "cell_type": "code",
   "execution_count": 5,
   "metadata": {
    "scrolled": true
   },
   "outputs": [
    {
     "data": {
      "text/plain": [
       "['default', 'All Samples', 'DEN']"
      ]
     },
     "execution_count": 5,
     "metadata": {},
     "output_type": "execute_result"
    }
   ],
   "source": [
    "fks_fj.get_sample_groups()"
   ]
  },
  {
   "cell_type": "markdown",
   "metadata": {},
   "source": [
    "#### Record our sample ID and sample group for later"
   ]
  },
  {
   "cell_type": "code",
   "execution_count": 6,
   "metadata": {},
   "outputs": [],
   "source": [
    "sample_id = '101_DEN084Y5_15_E03_009_clean.fcs'\n",
    "sample_grp = 'DEN'"
   ]
  },
  {
   "cell_type": "code",
   "execution_count": 7,
   "metadata": {},
   "outputs": [],
   "source": [
    "sample = fks_fj.get_sample(sample_id)"
   ]
  },
  {
   "cell_type": "code",
   "execution_count": 8,
   "metadata": {},
   "outputs": [
    {
     "data": {
      "text/plain": [
       "{'1': {'PnN': 'FSC-A'},\n",
       " '2': {'PnN': 'FSC-H'},\n",
       " '3': {'PnN': 'FSC-W'},\n",
       " '4': {'PnN': 'SSC-A'},\n",
       " '5': {'PnN': 'SSC-H'},\n",
       " '6': {'PnN': 'SSC-W'},\n",
       " '7': {'PnN': 'TNFa FITC FLR-A'},\n",
       " '8': {'PnN': 'CD8 PerCP-Cy55 FLR-A'},\n",
       " '9': {'PnN': 'IL2 BV421 FLR-A'},\n",
       " '10': {'PnN': 'Aqua Amine FLR-A'},\n",
       " '11': {'PnN': 'IFNg APC FLR-A'},\n",
       " '12': {'PnN': 'CD3 APC-H7 FLR-A'},\n",
       " '13': {'PnN': 'CD107a PE FLR-A'},\n",
       " '14': {'PnN': 'CD4 PE-Cy7 FLR-A'},\n",
       " '15': {'PnN': 'Time'}}"
      ]
     },
     "execution_count": 8,
     "metadata": {},
     "output_type": "execute_result"
    }
   ],
   "source": [
    "sample.channels"
   ]
  },
  {
   "cell_type": "markdown",
   "metadata": {},
   "source": [
    "#### Show the gate hierachy"
   ]
  },
  {
   "cell_type": "code",
   "execution_count": 9,
   "metadata": {
    "scrolled": true
   },
   "outputs": [
    {
     "name": "stdout",
     "output_type": "stream",
     "text": [
      "root\n",
      "╰── Time\n",
      "    ╰── Singlets\n",
      "        ╰── aAmine-\n",
      "            ╰── CD3+\n",
      "                ├── CD4+\n",
      "                │   ├── CD107a+\n",
      "                │   ├── IFNg+\n",
      "                │   ├── IL2+\n",
      "                │   ╰── TNFa+\n",
      "                ╰── CD8+\n",
      "                    ├── CD107a+\n",
      "                    ├── IFNg+\n",
      "                    ├── IL2+\n",
      "                    ╰── TNFa+\n"
     ]
    }
   ],
   "source": [
    "print(fks_fj.get_gate_hierarchy(sample_grp, 'ascii'))"
   ]
  },
  {
   "cell_type": "markdown",
   "metadata": {},
   "source": [
    "#### Process gates for the sample group"
   ]
  },
  {
   "cell_type": "code",
   "execution_count": 10,
   "metadata": {},
   "outputs": [],
   "source": [
    "fks_fj.analyze_samples(sample_grp)"
   ]
  },
  {
   "cell_type": "code",
   "execution_count": 11,
   "metadata": {},
   "outputs": [],
   "source": [
    "results = fks_fj.get_gating_results(sample_grp, sample_id)"
   ]
  },
  {
   "cell_type": "code",
   "execution_count": 12,
   "metadata": {
    "scrolled": true
   },
   "outputs": [
    {
     "data": {
      "text/html": [
       "<div>\n",
       "<style scoped>\n",
       "    .dataframe tbody tr th:only-of-type {\n",
       "        vertical-align: middle;\n",
       "    }\n",
       "\n",
       "    .dataframe tbody tr th {\n",
       "        vertical-align: top;\n",
       "    }\n",
       "\n",
       "    .dataframe thead th {\n",
       "        text-align: right;\n",
       "    }\n",
       "</style>\n",
       "<table border=\"1\" class=\"dataframe\">\n",
       "  <thead>\n",
       "    <tr style=\"text-align: right;\">\n",
       "      <th></th>\n",
       "      <th>sample</th>\n",
       "      <th>gate_path</th>\n",
       "      <th>gate_id</th>\n",
       "      <th>gate_type</th>\n",
       "      <th>quadrant_parent</th>\n",
       "      <th>parent</th>\n",
       "      <th>count</th>\n",
       "      <th>absolute_percent</th>\n",
       "      <th>relative_percent</th>\n",
       "      <th>level</th>\n",
       "    </tr>\n",
       "  </thead>\n",
       "  <tbody>\n",
       "    <tr>\n",
       "      <th>0</th>\n",
       "      <td>101_DEN084Y5_15_E03_009_clean.fcs</td>\n",
       "      <td>[root]</td>\n",
       "      <td>Time</td>\n",
       "      <td>RectangleGate</td>\n",
       "      <td>None</td>\n",
       "      <td>None</td>\n",
       "      <td>283968</td>\n",
       "      <td>99.999648</td>\n",
       "      <td>99.999648</td>\n",
       "      <td>1</td>\n",
       "    </tr>\n",
       "    <tr>\n",
       "      <th>1</th>\n",
       "      <td>101_DEN084Y5_15_E03_009_clean.fcs</td>\n",
       "      <td>[root, Time]</td>\n",
       "      <td>Singlets</td>\n",
       "      <td>PolygonGate</td>\n",
       "      <td>None</td>\n",
       "      <td>Time</td>\n",
       "      <td>236780</td>\n",
       "      <td>83.382341</td>\n",
       "      <td>83.382635</td>\n",
       "      <td>2</td>\n",
       "    </tr>\n",
       "    <tr>\n",
       "      <th>2</th>\n",
       "      <td>101_DEN084Y5_15_E03_009_clean.fcs</td>\n",
       "      <td>[root, Time, Singlets]</td>\n",
       "      <td>aAmine-</td>\n",
       "      <td>PolygonGate</td>\n",
       "      <td>None</td>\n",
       "      <td>Singlets</td>\n",
       "      <td>161823</td>\n",
       "      <td>56.986150</td>\n",
       "      <td>68.343188</td>\n",
       "      <td>3</td>\n",
       "    </tr>\n",
       "    <tr>\n",
       "      <th>3</th>\n",
       "      <td>101_DEN084Y5_15_E03_009_clean.fcs</td>\n",
       "      <td>[root, Time, Singlets, aAmine-]</td>\n",
       "      <td>CD3+</td>\n",
       "      <td>PolygonGate</td>\n",
       "      <td>None</td>\n",
       "      <td>aAmine-</td>\n",
       "      <td>132200</td>\n",
       "      <td>46.554377</td>\n",
       "      <td>81.694197</td>\n",
       "      <td>4</td>\n",
       "    </tr>\n",
       "    <tr>\n",
       "      <th>4</th>\n",
       "      <td>101_DEN084Y5_15_E03_009_clean.fcs</td>\n",
       "      <td>[root, Time, Singlets, aAmine-, CD3+]</td>\n",
       "      <td>CD4+</td>\n",
       "      <td>PolygonGate</td>\n",
       "      <td>None</td>\n",
       "      <td>CD3+</td>\n",
       "      <td>81855</td>\n",
       "      <td>28.825330</td>\n",
       "      <td>61.917549</td>\n",
       "      <td>5</td>\n",
       "    </tr>\n",
       "    <tr>\n",
       "      <th>9</th>\n",
       "      <td>101_DEN084Y5_15_E03_009_clean.fcs</td>\n",
       "      <td>[root, Time, Singlets, aAmine-, CD3+]</td>\n",
       "      <td>CD8+</td>\n",
       "      <td>PolygonGate</td>\n",
       "      <td>None</td>\n",
       "      <td>CD3+</td>\n",
       "      <td>46965</td>\n",
       "      <td>16.538777</td>\n",
       "      <td>35.525719</td>\n",
       "      <td>5</td>\n",
       "    </tr>\n",
       "    <tr>\n",
       "      <th>5</th>\n",
       "      <td>101_DEN084Y5_15_E03_009_clean.fcs</td>\n",
       "      <td>[root, Time, Singlets, aAmine-, CD3+, CD4+]</td>\n",
       "      <td>CD107a+</td>\n",
       "      <td>RectangleGate</td>\n",
       "      <td>None</td>\n",
       "      <td>CD4+</td>\n",
       "      <td>59</td>\n",
       "      <td>0.020777</td>\n",
       "      <td>0.072079</td>\n",
       "      <td>6</td>\n",
       "    </tr>\n",
       "    <tr>\n",
       "      <th>10</th>\n",
       "      <td>101_DEN084Y5_15_E03_009_clean.fcs</td>\n",
       "      <td>[root, Time, Singlets, aAmine-, CD3+, CD8+]</td>\n",
       "      <td>CD107a+</td>\n",
       "      <td>RectangleGate</td>\n",
       "      <td>None</td>\n",
       "      <td>CD8+</td>\n",
       "      <td>814</td>\n",
       "      <td>0.286651</td>\n",
       "      <td>1.733206</td>\n",
       "      <td>6</td>\n",
       "    </tr>\n",
       "    <tr>\n",
       "      <th>6</th>\n",
       "      <td>101_DEN084Y5_15_E03_009_clean.fcs</td>\n",
       "      <td>[root, Time, Singlets, aAmine-, CD3+, CD4+]</td>\n",
       "      <td>IFNg+</td>\n",
       "      <td>RectangleGate</td>\n",
       "      <td>None</td>\n",
       "      <td>CD4+</td>\n",
       "      <td>598</td>\n",
       "      <td>0.210586</td>\n",
       "      <td>0.730560</td>\n",
       "      <td>6</td>\n",
       "    </tr>\n",
       "    <tr>\n",
       "      <th>11</th>\n",
       "      <td>101_DEN084Y5_15_E03_009_clean.fcs</td>\n",
       "      <td>[root, Time, Singlets, aAmine-, CD3+, CD8+]</td>\n",
       "      <td>IFNg+</td>\n",
       "      <td>RectangleGate</td>\n",
       "      <td>None</td>\n",
       "      <td>CD8+</td>\n",
       "      <td>1224</td>\n",
       "      <td>0.431033</td>\n",
       "      <td>2.606196</td>\n",
       "      <td>6</td>\n",
       "    </tr>\n",
       "    <tr>\n",
       "      <th>7</th>\n",
       "      <td>101_DEN084Y5_15_E03_009_clean.fcs</td>\n",
       "      <td>[root, Time, Singlets, aAmine-, CD3+, CD4+]</td>\n",
       "      <td>IL2+</td>\n",
       "      <td>RectangleGate</td>\n",
       "      <td>None</td>\n",
       "      <td>CD4+</td>\n",
       "      <td>64</td>\n",
       "      <td>0.022538</td>\n",
       "      <td>0.078187</td>\n",
       "      <td>6</td>\n",
       "    </tr>\n",
       "    <tr>\n",
       "      <th>12</th>\n",
       "      <td>101_DEN084Y5_15_E03_009_clean.fcs</td>\n",
       "      <td>[root, Time, Singlets, aAmine-, CD3+, CD8+]</td>\n",
       "      <td>IL2+</td>\n",
       "      <td>RectangleGate</td>\n",
       "      <td>None</td>\n",
       "      <td>CD8+</td>\n",
       "      <td>127</td>\n",
       "      <td>0.044723</td>\n",
       "      <td>0.270414</td>\n",
       "      <td>6</td>\n",
       "    </tr>\n",
       "    <tr>\n",
       "      <th>8</th>\n",
       "      <td>101_DEN084Y5_15_E03_009_clean.fcs</td>\n",
       "      <td>[root, Time, Singlets, aAmine-, CD3+, CD4+]</td>\n",
       "      <td>TNFa+</td>\n",
       "      <td>RectangleGate</td>\n",
       "      <td>None</td>\n",
       "      <td>CD4+</td>\n",
       "      <td>288</td>\n",
       "      <td>0.101420</td>\n",
       "      <td>0.351842</td>\n",
       "      <td>6</td>\n",
       "    </tr>\n",
       "    <tr>\n",
       "      <th>13</th>\n",
       "      <td>101_DEN084Y5_15_E03_009_clean.fcs</td>\n",
       "      <td>[root, Time, Singlets, aAmine-, CD3+, CD8+]</td>\n",
       "      <td>TNFa+</td>\n",
       "      <td>RectangleGate</td>\n",
       "      <td>None</td>\n",
       "      <td>CD8+</td>\n",
       "      <td>821</td>\n",
       "      <td>0.289116</td>\n",
       "      <td>1.748110</td>\n",
       "      <td>6</td>\n",
       "    </tr>\n",
       "  </tbody>\n",
       "</table>\n",
       "</div>"
      ],
      "text/plain": [
       "                               sample  \\\n",
       "0   101_DEN084Y5_15_E03_009_clean.fcs   \n",
       "1   101_DEN084Y5_15_E03_009_clean.fcs   \n",
       "2   101_DEN084Y5_15_E03_009_clean.fcs   \n",
       "3   101_DEN084Y5_15_E03_009_clean.fcs   \n",
       "4   101_DEN084Y5_15_E03_009_clean.fcs   \n",
       "9   101_DEN084Y5_15_E03_009_clean.fcs   \n",
       "5   101_DEN084Y5_15_E03_009_clean.fcs   \n",
       "10  101_DEN084Y5_15_E03_009_clean.fcs   \n",
       "6   101_DEN084Y5_15_E03_009_clean.fcs   \n",
       "11  101_DEN084Y5_15_E03_009_clean.fcs   \n",
       "7   101_DEN084Y5_15_E03_009_clean.fcs   \n",
       "12  101_DEN084Y5_15_E03_009_clean.fcs   \n",
       "8   101_DEN084Y5_15_E03_009_clean.fcs   \n",
       "13  101_DEN084Y5_15_E03_009_clean.fcs   \n",
       "\n",
       "                                      gate_path   gate_id      gate_type  \\\n",
       "0                                        [root]      Time  RectangleGate   \n",
       "1                                  [root, Time]  Singlets    PolygonGate   \n",
       "2                        [root, Time, Singlets]   aAmine-    PolygonGate   \n",
       "3               [root, Time, Singlets, aAmine-]      CD3+    PolygonGate   \n",
       "4         [root, Time, Singlets, aAmine-, CD3+]      CD4+    PolygonGate   \n",
       "9         [root, Time, Singlets, aAmine-, CD3+]      CD8+    PolygonGate   \n",
       "5   [root, Time, Singlets, aAmine-, CD3+, CD4+]   CD107a+  RectangleGate   \n",
       "10  [root, Time, Singlets, aAmine-, CD3+, CD8+]   CD107a+  RectangleGate   \n",
       "6   [root, Time, Singlets, aAmine-, CD3+, CD4+]     IFNg+  RectangleGate   \n",
       "11  [root, Time, Singlets, aAmine-, CD3+, CD8+]     IFNg+  RectangleGate   \n",
       "7   [root, Time, Singlets, aAmine-, CD3+, CD4+]      IL2+  RectangleGate   \n",
       "12  [root, Time, Singlets, aAmine-, CD3+, CD8+]      IL2+  RectangleGate   \n",
       "8   [root, Time, Singlets, aAmine-, CD3+, CD4+]     TNFa+  RectangleGate   \n",
       "13  [root, Time, Singlets, aAmine-, CD3+, CD8+]     TNFa+  RectangleGate   \n",
       "\n",
       "   quadrant_parent    parent   count  absolute_percent  relative_percent  \\\n",
       "0             None      None  283968         99.999648         99.999648   \n",
       "1             None      Time  236780         83.382341         83.382635   \n",
       "2             None  Singlets  161823         56.986150         68.343188   \n",
       "3             None   aAmine-  132200         46.554377         81.694197   \n",
       "4             None      CD3+   81855         28.825330         61.917549   \n",
       "9             None      CD3+   46965         16.538777         35.525719   \n",
       "5             None      CD4+      59          0.020777          0.072079   \n",
       "10            None      CD8+     814          0.286651          1.733206   \n",
       "6             None      CD4+     598          0.210586          0.730560   \n",
       "11            None      CD8+    1224          0.431033          2.606196   \n",
       "7             None      CD4+      64          0.022538          0.078187   \n",
       "12            None      CD8+     127          0.044723          0.270414   \n",
       "8             None      CD4+     288          0.101420          0.351842   \n",
       "13            None      CD8+     821          0.289116          1.748110   \n",
       "\n",
       "    level  \n",
       "0       1  \n",
       "1       2  \n",
       "2       3  \n",
       "3       4  \n",
       "4       5  \n",
       "9       5  \n",
       "5       6  \n",
       "10      6  \n",
       "6       6  \n",
       "11      6  \n",
       "7       6  \n",
       "12      6  \n",
       "8       6  \n",
       "13      6  "
      ]
     },
     "execution_count": 12,
     "metadata": {},
     "output_type": "execute_result"
    }
   ],
   "source": [
    "results.report"
   ]
  },
  {
   "cell_type": "markdown",
   "metadata": {},
   "source": [
    "#### Get gated events for a sample"
   ]
  },
  {
   "cell_type": "code",
   "execution_count": 13,
   "metadata": {},
   "outputs": [],
   "source": [
    "# first get a compensation matrix and transform to use for gated events\n",
    "comps = fks_fj.get_sample_comp_matrices(sample_grp, sample_id)\n",
    "xforms = fks_fj.get_sample_transforms(sample_grp, sample_id)"
   ]
  },
  {
   "cell_type": "code",
   "execution_count": 14,
   "metadata": {},
   "outputs": [
    {
     "data": {
      "text/plain": [
       "([Matrix(Acquisition-defined, dims: 8)],\n",
       " [LinearTransform(FSC-A, t: 262144.0, a: 0.0),\n",
       "  LinearTransform(FSC-H, t: 262144.0, a: 0.0),\n",
       "  LinearTransform(FSC-W, t: 262144.0, a: 0.0),\n",
       "  LinearTransform(SSC-A, t: 262144.0, a: 0.0),\n",
       "  LinearTransform(SSC-H, t: 262144.0, a: 0.0),\n",
       "  LinearTransform(SSC-W, t: 262144.0, a: 0.0),\n",
       "  LogicleTransform(TNFa FITC FLR-A, t: 262144.0, w: 1.0, m: 4.418539922, a: 0.0),\n",
       "  LogicleTransform(CD8 PerCP-Cy55 FLR-A, t: 262144.0, w: 1.0, m: 4.418539922, a: 0.0),\n",
       "  LogicleTransform(IL2 BV421 FLR-A, t: 262144.0, w: 1.0, m: 4.418539922, a: 0.0),\n",
       "  LogicleTransform(Aqua Amine FLR-A, t: 262144.0, w: 1.0, m: 4.418539922, a: 0.0),\n",
       "  LogicleTransform(IFNg APC FLR-A, t: 262144.0, w: 1.0, m: 4.418539922, a: 0.0),\n",
       "  LogicleTransform(CD3 APC-H7 FLR-A, t: 262144.0, w: 1.0, m: 4.418539922, a: 0.0),\n",
       "  LogicleTransform(CD107a PE FLR-A, t: 262144.0, w: 1.0, m: 4.418539922, a: 0.0),\n",
       "  LogicleTransform(CD4 PE-Cy7 FLR-A, t: 262144.0, w: 1.0, m: 4.418539922, a: 0.0),\n",
       "  LinearTransform(Time, t: 72.0, a: 0.8511997311),\n",
       "  LogicleTransform(Comp-TNFa FITC FLR-A, t: 262144.0, w: 1.0, m: 4.418539922, a: 0.0),\n",
       "  LogicleTransform(Comp-CD8 PerCP-Cy55 FLR-A, t: 262144.0, w: 1.0, m: 4.418539922, a: 0.0),\n",
       "  LogicleTransform(Comp-IL2 BV421 FLR-A, t: 262144.0, w: 1.0, m: 4.418539922, a: 0.0),\n",
       "  LogicleTransform(Comp-Aqua Amine FLR-A, t: 262144.0, w: 1.0, m: 4.418539922, a: 0.0),\n",
       "  LogicleTransform(Comp-IFNg APC FLR-A, t: 262144.0, w: 1.0, m: 4.418539922, a: 0.0),\n",
       "  LogicleTransform(Comp-CD3 APC-H7 FLR-A, t: 262144.0, w: 1.0, m: 4.418539922, a: 0.0),\n",
       "  LogicleTransform(Comp-CD107a PE FLR-A, t: 262144.0, w: 1.0, m: 4.418539922, a: 0.0),\n",
       "  LogicleTransform(Comp-CD4 PE-Cy7 FLR-A, t: 262144.0, w: 1.0, m: 4.418539922, a: 0.0)])"
      ]
     },
     "execution_count": 14,
     "metadata": {},
     "output_type": "execute_result"
    }
   ],
   "source": [
    "comps, xforms"
   ]
  },
  {
   "cell_type": "code",
   "execution_count": 15,
   "metadata": {},
   "outputs": [],
   "source": [
    "comp = comps[0]\n",
    "xform = xforms[6]"
   ]
  },
  {
   "cell_type": "code",
   "execution_count": 16,
   "metadata": {
    "scrolled": true
   },
   "outputs": [],
   "source": [
    "cd4_gate_id = 'CD4+'\n",
    "cd4_events = fks_fj.get_gate_events(sample_grp, sample_id, cd4_gate_id, matrix=comp, transform=xform)"
   ]
  },
  {
   "cell_type": "code",
   "execution_count": 17,
   "metadata": {},
   "outputs": [
    {
     "data": {
      "text/plain": [
       "(283969, 81855)"
      ]
     },
     "execution_count": 17,
     "metadata": {},
     "output_type": "execute_result"
    }
   ],
   "source": [
    "sample.event_count, len(cd4_events)"
   ]
  },
  {
   "cell_type": "code",
   "execution_count": 18,
   "metadata": {},
   "outputs": [
    {
     "data": {
      "text/html": [
       "<div>\n",
       "<style scoped>\n",
       "    .dataframe tbody tr th:only-of-type {\n",
       "        vertical-align: middle;\n",
       "    }\n",
       "\n",
       "    .dataframe tbody tr th {\n",
       "        vertical-align: top;\n",
       "    }\n",
       "\n",
       "    .dataframe thead tr th {\n",
       "        text-align: left;\n",
       "    }\n",
       "</style>\n",
       "<table border=\"1\" class=\"dataframe\">\n",
       "  <thead>\n",
       "    <tr>\n",
       "      <th>pnn</th>\n",
       "      <th>FSC-A</th>\n",
       "      <th>FSC-H</th>\n",
       "      <th>FSC-W</th>\n",
       "      <th>SSC-A</th>\n",
       "      <th>SSC-H</th>\n",
       "      <th>SSC-W</th>\n",
       "      <th>TNFa FITC FLR-A</th>\n",
       "      <th>CD8 PerCP-Cy55 FLR-A</th>\n",
       "      <th>IL2 BV421 FLR-A</th>\n",
       "      <th>Aqua Amine FLR-A</th>\n",
       "      <th>IFNg APC FLR-A</th>\n",
       "      <th>CD3 APC-H7 FLR-A</th>\n",
       "      <th>CD107a PE FLR-A</th>\n",
       "      <th>CD4 PE-Cy7 FLR-A</th>\n",
       "      <th>Time</th>\n",
       "    </tr>\n",
       "    <tr>\n",
       "      <th>pns</th>\n",
       "      <th></th>\n",
       "      <th></th>\n",
       "      <th></th>\n",
       "      <th></th>\n",
       "      <th></th>\n",
       "      <th></th>\n",
       "      <th></th>\n",
       "      <th></th>\n",
       "      <th></th>\n",
       "      <th></th>\n",
       "      <th></th>\n",
       "      <th></th>\n",
       "      <th></th>\n",
       "      <th></th>\n",
       "      <th></th>\n",
       "    </tr>\n",
       "  </thead>\n",
       "  <tbody>\n",
       "    <tr>\n",
       "      <th>1</th>\n",
       "      <td>126964.851562</td>\n",
       "      <td>104289.0</td>\n",
       "      <td>79785.687500</td>\n",
       "      <td>46916.937500</td>\n",
       "      <td>43493.0</td>\n",
       "      <td>70695.250000</td>\n",
       "      <td>0.242188</td>\n",
       "      <td>0.230791</td>\n",
       "      <td>0.282167</td>\n",
       "      <td>0.254901</td>\n",
       "      <td>0.244743</td>\n",
       "      <td>0.454572</td>\n",
       "      <td>0.276832</td>\n",
       "      <td>0.610560</td>\n",
       "      <td>1.294000</td>\n",
       "    </tr>\n",
       "    <tr>\n",
       "      <th>6</th>\n",
       "      <td>225004.640625</td>\n",
       "      <td>187028.0</td>\n",
       "      <td>78843.296875</td>\n",
       "      <td>42127.019531</td>\n",
       "      <td>39312.0</td>\n",
       "      <td>70228.843750</td>\n",
       "      <td>0.255704</td>\n",
       "      <td>0.297297</td>\n",
       "      <td>0.270034</td>\n",
       "      <td>0.259815</td>\n",
       "      <td>0.232809</td>\n",
       "      <td>0.383849</td>\n",
       "      <td>0.272156</td>\n",
       "      <td>0.476992</td>\n",
       "      <td>1.308000</td>\n",
       "    </tr>\n",
       "    <tr>\n",
       "      <th>7</th>\n",
       "      <td>130944.875000</td>\n",
       "      <td>102041.0</td>\n",
       "      <td>84099.562500</td>\n",
       "      <td>42157.621094</td>\n",
       "      <td>39005.0</td>\n",
       "      <td>70833.023438</td>\n",
       "      <td>0.542186</td>\n",
       "      <td>0.298411</td>\n",
       "      <td>0.430466</td>\n",
       "      <td>0.270496</td>\n",
       "      <td>0.720327</td>\n",
       "      <td>0.324062</td>\n",
       "      <td>0.353662</td>\n",
       "      <td>0.604535</td>\n",
       "      <td>1.309000</td>\n",
       "    </tr>\n",
       "    <tr>\n",
       "      <th>9</th>\n",
       "      <td>112081.250000</td>\n",
       "      <td>90787.0</td>\n",
       "      <td>80907.578125</td>\n",
       "      <td>47678.878906</td>\n",
       "      <td>44339.0</td>\n",
       "      <td>70472.570312</td>\n",
       "      <td>0.256053</td>\n",
       "      <td>0.305138</td>\n",
       "      <td>0.332638</td>\n",
       "      <td>0.251144</td>\n",
       "      <td>0.226288</td>\n",
       "      <td>0.607199</td>\n",
       "      <td>0.369072</td>\n",
       "      <td>0.423495</td>\n",
       "      <td>1.311000</td>\n",
       "    </tr>\n",
       "    <tr>\n",
       "      <th>16</th>\n",
       "      <td>138395.359375</td>\n",
       "      <td>108988.0</td>\n",
       "      <td>83219.062500</td>\n",
       "      <td>27065.699219</td>\n",
       "      <td>25292.0</td>\n",
       "      <td>70131.976562</td>\n",
       "      <td>0.241784</td>\n",
       "      <td>0.235227</td>\n",
       "      <td>0.283300</td>\n",
       "      <td>0.246906</td>\n",
       "      <td>0.251326</td>\n",
       "      <td>0.454224</td>\n",
       "      <td>0.306893</td>\n",
       "      <td>0.487684</td>\n",
       "      <td>1.324000</td>\n",
       "    </tr>\n",
       "    <tr>\n",
       "      <th>...</th>\n",
       "      <td>...</td>\n",
       "      <td>...</td>\n",
       "      <td>...</td>\n",
       "      <td>...</td>\n",
       "      <td>...</td>\n",
       "      <td>...</td>\n",
       "      <td>...</td>\n",
       "      <td>...</td>\n",
       "      <td>...</td>\n",
       "      <td>...</td>\n",
       "      <td>...</td>\n",
       "      <td>...</td>\n",
       "      <td>...</td>\n",
       "      <td>...</td>\n",
       "      <td>...</td>\n",
       "    </tr>\n",
       "    <tr>\n",
       "      <th>283956</th>\n",
       "      <td>141566.421875</td>\n",
       "      <td>114792.0</td>\n",
       "      <td>80821.804688</td>\n",
       "      <td>26316.000000</td>\n",
       "      <td>25000.0</td>\n",
       "      <td>68985.820312</td>\n",
       "      <td>0.234678</td>\n",
       "      <td>0.232605</td>\n",
       "      <td>0.255370</td>\n",
       "      <td>0.244074</td>\n",
       "      <td>0.234512</td>\n",
       "      <td>0.477591</td>\n",
       "      <td>0.251644</td>\n",
       "      <td>0.517704</td>\n",
       "      <td>72.232002</td>\n",
       "    </tr>\n",
       "    <tr>\n",
       "      <th>283958</th>\n",
       "      <td>146033.078125</td>\n",
       "      <td>115196.0</td>\n",
       "      <td>83079.484375</td>\n",
       "      <td>43210.257812</td>\n",
       "      <td>37448.0</td>\n",
       "      <td>75620.257812</td>\n",
       "      <td>0.246480</td>\n",
       "      <td>0.238143</td>\n",
       "      <td>0.301098</td>\n",
       "      <td>0.276242</td>\n",
       "      <td>0.247809</td>\n",
       "      <td>0.463633</td>\n",
       "      <td>0.575190</td>\n",
       "      <td>0.558660</td>\n",
       "      <td>72.232998</td>\n",
       "    </tr>\n",
       "    <tr>\n",
       "      <th>283961</th>\n",
       "      <td>139303.078125</td>\n",
       "      <td>119136.0</td>\n",
       "      <td>76629.789062</td>\n",
       "      <td>53711.160156</td>\n",
       "      <td>49696.0</td>\n",
       "      <td>70830.945312</td>\n",
       "      <td>0.254001</td>\n",
       "      <td>0.265316</td>\n",
       "      <td>0.312502</td>\n",
       "      <td>0.256775</td>\n",
       "      <td>0.264190</td>\n",
       "      <td>0.486896</td>\n",
       "      <td>0.264077</td>\n",
       "      <td>0.633769</td>\n",
       "      <td>72.233999</td>\n",
       "    </tr>\n",
       "    <tr>\n",
       "      <th>283964</th>\n",
       "      <td>162980.171875</td>\n",
       "      <td>133362.0</td>\n",
       "      <td>80090.796875</td>\n",
       "      <td>22437.958984</td>\n",
       "      <td>21506.0</td>\n",
       "      <td>68375.992188</td>\n",
       "      <td>0.252905</td>\n",
       "      <td>0.235778</td>\n",
       "      <td>0.244311</td>\n",
       "      <td>0.259348</td>\n",
       "      <td>0.235420</td>\n",
       "      <td>0.395233</td>\n",
       "      <td>0.275632</td>\n",
       "      <td>0.506564</td>\n",
       "      <td>72.235000</td>\n",
       "    </tr>\n",
       "    <tr>\n",
       "      <th>283965</th>\n",
       "      <td>100751.070312</td>\n",
       "      <td>80511.0</td>\n",
       "      <td>82011.429688</td>\n",
       "      <td>38459.097656</td>\n",
       "      <td>35391.0</td>\n",
       "      <td>71217.406250</td>\n",
       "      <td>0.238195</td>\n",
       "      <td>0.249350</td>\n",
       "      <td>0.288033</td>\n",
       "      <td>0.251144</td>\n",
       "      <td>0.243974</td>\n",
       "      <td>0.552090</td>\n",
       "      <td>0.267257</td>\n",
       "      <td>0.611233</td>\n",
       "      <td>72.235000</td>\n",
       "    </tr>\n",
       "  </tbody>\n",
       "</table>\n",
       "<p>81855 rows × 15 columns</p>\n",
       "</div>"
      ],
      "text/plain": [
       "pnn             FSC-A     FSC-H         FSC-W         SSC-A    SSC-H  \\\n",
       "pns                                                                    \n",
       "1       126964.851562  104289.0  79785.687500  46916.937500  43493.0   \n",
       "6       225004.640625  187028.0  78843.296875  42127.019531  39312.0   \n",
       "7       130944.875000  102041.0  84099.562500  42157.621094  39005.0   \n",
       "9       112081.250000   90787.0  80907.578125  47678.878906  44339.0   \n",
       "16      138395.359375  108988.0  83219.062500  27065.699219  25292.0   \n",
       "...               ...       ...           ...           ...      ...   \n",
       "283956  141566.421875  114792.0  80821.804688  26316.000000  25000.0   \n",
       "283958  146033.078125  115196.0  83079.484375  43210.257812  37448.0   \n",
       "283961  139303.078125  119136.0  76629.789062  53711.160156  49696.0   \n",
       "283964  162980.171875  133362.0  80090.796875  22437.958984  21506.0   \n",
       "283965  100751.070312   80511.0  82011.429688  38459.097656  35391.0   \n",
       "\n",
       "pnn            SSC-W TNFa FITC FLR-A CD8 PerCP-Cy55 FLR-A IL2 BV421 FLR-A  \\\n",
       "pns                                                                         \n",
       "1       70695.250000        0.242188             0.230791        0.282167   \n",
       "6       70228.843750        0.255704             0.297297        0.270034   \n",
       "7       70833.023438        0.542186             0.298411        0.430466   \n",
       "9       70472.570312        0.256053             0.305138        0.332638   \n",
       "16      70131.976562        0.241784             0.235227        0.283300   \n",
       "...              ...             ...                  ...             ...   \n",
       "283956  68985.820312        0.234678             0.232605        0.255370   \n",
       "283958  75620.257812        0.246480             0.238143        0.301098   \n",
       "283961  70830.945312        0.254001             0.265316        0.312502   \n",
       "283964  68375.992188        0.252905             0.235778        0.244311   \n",
       "283965  71217.406250        0.238195             0.249350        0.288033   \n",
       "\n",
       "pnn    Aqua Amine FLR-A IFNg APC FLR-A CD3 APC-H7 FLR-A CD107a PE FLR-A  \\\n",
       "pns                                                                       \n",
       "1              0.254901       0.244743         0.454572        0.276832   \n",
       "6              0.259815       0.232809         0.383849        0.272156   \n",
       "7              0.270496       0.720327         0.324062        0.353662   \n",
       "9              0.251144       0.226288         0.607199        0.369072   \n",
       "16             0.246906       0.251326         0.454224        0.306893   \n",
       "...                 ...            ...              ...             ...   \n",
       "283956         0.244074       0.234512         0.477591        0.251644   \n",
       "283958         0.276242       0.247809         0.463633        0.575190   \n",
       "283961         0.256775       0.264190         0.486896        0.264077   \n",
       "283964         0.259348       0.235420         0.395233        0.275632   \n",
       "283965         0.251144       0.243974         0.552090        0.267257   \n",
       "\n",
       "pnn    CD4 PE-Cy7 FLR-A       Time  \n",
       "pns                                 \n",
       "1              0.610560   1.294000  \n",
       "6              0.476992   1.308000  \n",
       "7              0.604535   1.309000  \n",
       "9              0.423495   1.311000  \n",
       "16             0.487684   1.324000  \n",
       "...                 ...        ...  \n",
       "283956         0.517704  72.232002  \n",
       "283958         0.558660  72.232998  \n",
       "283961         0.633769  72.233999  \n",
       "283964         0.506564  72.235000  \n",
       "283965         0.611233  72.235000  \n",
       "\n",
       "[81855 rows x 15 columns]"
      ]
     },
     "execution_count": 18,
     "metadata": {},
     "output_type": "execute_result"
    }
   ],
   "source": [
    "cd4_events"
   ]
  },
  {
   "cell_type": "code",
   "execution_count": 19,
   "metadata": {},
   "outputs": [],
   "source": [
    "cd4_mfi = cd4_events.mean()"
   ]
  },
  {
   "cell_type": "code",
   "execution_count": 20,
   "metadata": {},
   "outputs": [],
   "source": [
    "cd4_mfi = cd4_mfi[sample.fluoro_indices]"
   ]
  },
  {
   "cell_type": "code",
   "execution_count": 21,
   "metadata": {},
   "outputs": [
    {
     "data": {
      "text/plain": [
       "pnn                   pns\n",
       "TNFa FITC FLR-A              0.248338\n",
       "CD8 PerCP-Cy55 FLR-A         0.274010\n",
       "IL2 BV421 FLR-A              0.288348\n",
       "Aqua Amine FLR-A             0.250962\n",
       "IFNg APC FLR-A               0.246429\n",
       "CD3 APC-H7 FLR-A             0.488177\n",
       "CD107a PE FLR-A              0.279935\n",
       "CD4 PE-Cy7 FLR-A             0.588879\n",
       "dtype: float64"
      ]
     },
     "execution_count": 21,
     "metadata": {},
     "output_type": "execute_result"
    }
   ],
   "source": [
    "cd4_mfi"
   ]
  },
  {
   "cell_type": "markdown",
   "metadata": {},
   "source": [
    "#### Let's compare MFI between CD4+ & CD8+"
   ]
  },
  {
   "cell_type": "code",
   "execution_count": 22,
   "metadata": {},
   "outputs": [],
   "source": [
    "cd8_gate_id = 'CD8+'\n",
    "cd8_events = fks_fj.get_gate_events(sample_grp, sample_id, cd8_gate_id, matrix=comp, transform=xform)\n",
    "cd8_mfi = cd8_events.mean()[sample.fluoro_indices]"
   ]
  },
  {
   "cell_type": "code",
   "execution_count": 23,
   "metadata": {},
   "outputs": [],
   "source": [
    "mfi_comp = pd.DataFrame([cd4_mfi, cd8_mfi], index=[cd4_gate_id, cd8_gate_id])"
   ]
  },
  {
   "cell_type": "code",
   "execution_count": 24,
   "metadata": {},
   "outputs": [
    {
     "data": {
      "text/html": [
       "<div>\n",
       "<style scoped>\n",
       "    .dataframe tbody tr th:only-of-type {\n",
       "        vertical-align: middle;\n",
       "    }\n",
       "\n",
       "    .dataframe tbody tr th {\n",
       "        vertical-align: top;\n",
       "    }\n",
       "\n",
       "    .dataframe thead tr th {\n",
       "        text-align: left;\n",
       "    }\n",
       "</style>\n",
       "<table border=\"1\" class=\"dataframe\">\n",
       "  <thead>\n",
       "    <tr>\n",
       "      <th>pnn</th>\n",
       "      <th>TNFa FITC FLR-A</th>\n",
       "      <th>CD8 PerCP-Cy55 FLR-A</th>\n",
       "      <th>IL2 BV421 FLR-A</th>\n",
       "      <th>Aqua Amine FLR-A</th>\n",
       "      <th>IFNg APC FLR-A</th>\n",
       "      <th>CD3 APC-H7 FLR-A</th>\n",
       "      <th>CD107a PE FLR-A</th>\n",
       "      <th>CD4 PE-Cy7 FLR-A</th>\n",
       "    </tr>\n",
       "    <tr>\n",
       "      <th>pns</th>\n",
       "      <th></th>\n",
       "      <th></th>\n",
       "      <th></th>\n",
       "      <th></th>\n",
       "      <th></th>\n",
       "      <th></th>\n",
       "      <th></th>\n",
       "      <th></th>\n",
       "    </tr>\n",
       "  </thead>\n",
       "  <tbody>\n",
       "    <tr>\n",
       "      <th>CD4+</th>\n",
       "      <td>0.248338</td>\n",
       "      <td>0.274010</td>\n",
       "      <td>0.288348</td>\n",
       "      <td>0.250962</td>\n",
       "      <td>0.246429</td>\n",
       "      <td>0.488177</td>\n",
       "      <td>0.279935</td>\n",
       "      <td>0.588879</td>\n",
       "    </tr>\n",
       "    <tr>\n",
       "      <th>CD8+</th>\n",
       "      <td>0.250975</td>\n",
       "      <td>0.584248</td>\n",
       "      <td>0.283504</td>\n",
       "      <td>0.251208</td>\n",
       "      <td>0.252061</td>\n",
       "      <td>0.459689</td>\n",
       "      <td>0.292997</td>\n",
       "      <td>0.308986</td>\n",
       "    </tr>\n",
       "  </tbody>\n",
       "</table>\n",
       "</div>"
      ],
      "text/plain": [
       "pnn  TNFa FITC FLR-A CD8 PerCP-Cy55 FLR-A IL2 BV421 FLR-A Aqua Amine FLR-A  \\\n",
       "pns                                                                          \n",
       "CD4+        0.248338             0.274010        0.288348         0.250962   \n",
       "CD8+        0.250975             0.584248        0.283504         0.251208   \n",
       "\n",
       "pnn  IFNg APC FLR-A CD3 APC-H7 FLR-A CD107a PE FLR-A CD4 PE-Cy7 FLR-A  \n",
       "pns                                                                    \n",
       "CD4+       0.246429         0.488177        0.279935         0.588879  \n",
       "CD8+       0.252061         0.459689        0.292997         0.308986  "
      ]
     },
     "execution_count": 24,
     "metadata": {},
     "output_type": "execute_result"
    }
   ],
   "source": [
    "mfi_comp"
   ]
  },
  {
   "cell_type": "code",
   "execution_count": 25,
   "metadata": {},
   "outputs": [],
   "source": [
    "mfi_comp = mfi_comp.transpose().droplevel('pns').reset_index()"
   ]
  },
  {
   "cell_type": "code",
   "execution_count": 26,
   "metadata": {},
   "outputs": [
    {
     "data": {
      "text/html": [
       "<div>\n",
       "<style scoped>\n",
       "    .dataframe tbody tr th:only-of-type {\n",
       "        vertical-align: middle;\n",
       "    }\n",
       "\n",
       "    .dataframe tbody tr th {\n",
       "        vertical-align: top;\n",
       "    }\n",
       "\n",
       "    .dataframe thead th {\n",
       "        text-align: right;\n",
       "    }\n",
       "</style>\n",
       "<table border=\"1\" class=\"dataframe\">\n",
       "  <thead>\n",
       "    <tr style=\"text-align: right;\">\n",
       "      <th></th>\n",
       "      <th>pnn</th>\n",
       "      <th>CD4+</th>\n",
       "      <th>CD8+</th>\n",
       "    </tr>\n",
       "  </thead>\n",
       "  <tbody>\n",
       "    <tr>\n",
       "      <th>0</th>\n",
       "      <td>TNFa FITC FLR-A</td>\n",
       "      <td>0.248338</td>\n",
       "      <td>0.250975</td>\n",
       "    </tr>\n",
       "    <tr>\n",
       "      <th>1</th>\n",
       "      <td>CD8 PerCP-Cy55 FLR-A</td>\n",
       "      <td>0.274010</td>\n",
       "      <td>0.584248</td>\n",
       "    </tr>\n",
       "    <tr>\n",
       "      <th>2</th>\n",
       "      <td>IL2 BV421 FLR-A</td>\n",
       "      <td>0.288348</td>\n",
       "      <td>0.283504</td>\n",
       "    </tr>\n",
       "    <tr>\n",
       "      <th>3</th>\n",
       "      <td>Aqua Amine FLR-A</td>\n",
       "      <td>0.250962</td>\n",
       "      <td>0.251208</td>\n",
       "    </tr>\n",
       "    <tr>\n",
       "      <th>4</th>\n",
       "      <td>IFNg APC FLR-A</td>\n",
       "      <td>0.246429</td>\n",
       "      <td>0.252061</td>\n",
       "    </tr>\n",
       "    <tr>\n",
       "      <th>5</th>\n",
       "      <td>CD3 APC-H7 FLR-A</td>\n",
       "      <td>0.488177</td>\n",
       "      <td>0.459689</td>\n",
       "    </tr>\n",
       "    <tr>\n",
       "      <th>6</th>\n",
       "      <td>CD107a PE FLR-A</td>\n",
       "      <td>0.279935</td>\n",
       "      <td>0.292997</td>\n",
       "    </tr>\n",
       "    <tr>\n",
       "      <th>7</th>\n",
       "      <td>CD4 PE-Cy7 FLR-A</td>\n",
       "      <td>0.588879</td>\n",
       "      <td>0.308986</td>\n",
       "    </tr>\n",
       "  </tbody>\n",
       "</table>\n",
       "</div>"
      ],
      "text/plain": [
       "                    pnn      CD4+      CD8+\n",
       "0       TNFa FITC FLR-A  0.248338  0.250975\n",
       "1  CD8 PerCP-Cy55 FLR-A  0.274010  0.584248\n",
       "2       IL2 BV421 FLR-A  0.288348  0.283504\n",
       "3      Aqua Amine FLR-A  0.250962  0.251208\n",
       "4        IFNg APC FLR-A  0.246429  0.252061\n",
       "5      CD3 APC-H7 FLR-A  0.488177  0.459689\n",
       "6       CD107a PE FLR-A  0.279935  0.292997\n",
       "7      CD4 PE-Cy7 FLR-A  0.588879  0.308986"
      ]
     },
     "execution_count": 26,
     "metadata": {},
     "output_type": "execute_result"
    }
   ],
   "source": [
    "mfi_comp"
   ]
  },
  {
   "cell_type": "code",
   "execution_count": 27,
   "metadata": {},
   "outputs": [
    {
     "data": {
      "text/plain": [
       "[]"
      ]
     },
     "execution_count": 27,
     "metadata": {},
     "output_type": "execute_result"
    },
    {
     "data": {
      "image/png": "[encoded data removed]",
      "text/plain": [
       "<Figure size 864x432 with 1 Axes>"
      ]
     },
     "metadata": {
      "needs_background": "light"
     },
     "output_type": "display_data"
    }
   ],
   "source": [
    "ax = mfi_comp.plot.bar(x='pnn', figsize=(12, 6))\n",
    "ax.set_title(\"Mean Fluorescence Intensity - CD4+ vs CD8+\", color='black', fontsize=18)\n",
    "ax.legend(bbox_to_anchor=(1.0, 1.0), fontsize=12)\n",
    "ax.set_xticklabels(ax.get_xticklabels(), rotation=45)\n",
    "ax.plot()"
   ]
  },
  {
   "cell_type": "code",
   "execution_count": null,
   "metadata": {},
   "outputs": [],
   "source": []
  }
 ],
 "metadata": {
  "kernelspec": {
   "display_name": "Python 3 (ipykernel)",
   "language": "python",
   "name": "python3"
  },
  "language_info": {
   "codemirror_mode": {
    "name": "ipython",
    "version": 3
   },
   "file_extension": ".py",
   "mimetype": "text/x-python",
   "name": "python",
   "nbconvert_exporter": "python",
   "pygments_lexer": "ipython3",
   "version": "3.9.5"
  }
 },
 "nbformat": 4,
 "nbformat_minor": 4
}
