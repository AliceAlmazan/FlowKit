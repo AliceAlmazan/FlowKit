{
 "cells": [
  {
   "cell_type": "markdown",
   "metadata": {
    "pycharm": {
     "name": "#%% md\n"
    }
   },
   "source": [
    "# FlowKit Tutorial - Part 4 - The gates Module and Supporting Classes\n",
    "\n",
    "https://flowkit.readthedocs.io/en/latest/?badge=latest\n",
    "\n",
    "Part 4 of the tutorial series covers the programmatic construction of a `GatingStrategy`. This will require using the Gate sub-classes in the `gates` module as well as a few supporting classes used in FlowKit.\n",
    "\n",
    "If you have any questions about FlowKit, find any bugs, or feel something is missing from these tutorials [please submit an issue to the GitHub repository here](https://github.com/whitews/FlowKit/issues/new/).\n",
    "\n",
    "## Table of Contents\n",
    "\n",
    "* [Dimension Class](#Dimension-Class)\n",
    "* [Vertex Class](#Vertex-Class)\n",
    "* [gates Module](#gates-Module)\n",
    "  * [RectangleGate Class](#RectangleGate-Class)\n",
    "  * [PolygonGate Class](#PolygonGate-Class)\n",
    "  * [EllipsoidGate Class](#EllipsoidGate-Class)\n",
    "  * [QuadrantGate Class](#QuadrantGate-Class)\n",
    "  * [BooleanGate Class](#BooleanGate-Class)"
   ]
  },
  {
   "cell_type": "code",
   "execution_count": null,
   "metadata": {
    "pycharm": {
     "name": "#%%\n"
    }
   },
   "outputs": [],
   "source": [
    "import bokeh\n",
    "from bokeh.plotting import show\n",
    "import matplotlib.pyplot as plt\n",
    "\n",
    "import flowkit as fk\n",
    "\n",
    "bokeh.io.output_notebook()\n",
    "%matplotlib inline\n",
    "\n",
    "_ = plt.ioff()"
   ]
  },
  {
   "cell_type": "code",
   "execution_count": null,
   "metadata": {
    "pycharm": {
     "name": "#%%\n"
    }
   },
   "outputs": [],
   "source": [
    "# check version so users can verify they have the same version/API\n",
    "fk.__version__"
   ]
  },
  {
   "cell_type": "markdown",
   "metadata": {
    "pycharm": {
     "name": "#%% md\n"
    }
   },
   "source": [
    "## Dimension Class\n",
    "\n",
    "Before we cover how gates are created in FlowKit, we'll first need to go over a few supporting classes necessary to create them. The first of which is the `Dimension` class, which is a reference to a specific channel in one or more Sample instances, and specifies the preprocessing intructions for that channel. The `Dimension` class is modelled after the \"dimension\" XML element used in GatingML-2.0 and in FlowJo 10 workspaces.\n",
    "\n",
    "Let's look at the constructor:\n",
    "\n",
    "    Dimension(\n",
    "        dimension_id, \n",
    "        compensation_ref='uncompensated', \n",
    "        transformation_ref=None, \n",
    "        range_min=None, \n",
    "        range_max=None\n",
    "    )\n",
    "\n",
    "The **`dimension_id`** corresponds to a Sample PnN label of a channel. The **`compensation_ref`** is a string referencing a Matrix `id`. The values 'uncompensated' or 'fcs' are reserved for events in a gate that should not be compensated ('uncompensated') or events that should be compensated using the spillover matrix found in the FCS sample ('fcs'). The **`transformation_ref`** is a string referencing the `id` of a `Transform` sub-class. `None` specifies the channel data should not be transformed. \n",
    "\n",
    "Finally, we have the `range_min` and `range_max` arguments. These are only used for `Dimension` instances intended for use with a `RectangleGate`. It is admittedly a bit odd, but this is how the GatingML-2.0 specification and FlowJo 10 workspaces implement channel dimension references and rectangle / range gates. We'll go over these values in more detail in the `RectangleGate` section. "
   ]
  },
  {
   "cell_type": "markdown",
   "metadata": {
    "pycharm": {
     "name": "#%% md\n"
    }
   },
   "source": [
    "## Vertex Class\n",
    "\n",
    "A `Vertex` instance represents a single vertex of a polygon. The constructor is simple, consisting of a single `coordinates` argument of a tuple of 2 float values. A collection of 3 or more `Vertex` instances are used to define the boundary of a `PolygonGate`"
   ]
  },
  {
   "cell_type": "markdown",
   "metadata": {
    "pycharm": {
     "name": "#%% md\n"
    }
   },
   "source": [
    "## `gates` Module\n",
    "\n",
    "The `gates` module contains classes related to the various gate types available within FlowKit. These include:\n",
    "\n",
    "* RectangleGate\n",
    "* PolygonGate\n",
    "* EllipsoidGate\n",
    "* QuadrantGate (and the related Quadrant class)\n",
    "* BooleanGate\n",
    "\n",
    "We'll cover each of these gate types below, but first let's load our simple diamond FCS to use for demonstration, review the channels, and plot the events. We'll also make an empty `GatingStrategy` instance to add and apply our gates."
   ]
  },
  {
   "cell_type": "code",
   "execution_count": null,
   "metadata": {
    "pycharm": {
     "name": "#%%\n"
    }
   },
   "outputs": [],
   "source": [
    "sample = fk.Sample(\"../../examples/data/simple_diamond_example/test_data_diamond_01.fcs\")"
   ]
  },
  {
   "cell_type": "code",
   "execution_count": null,
   "metadata": {
    "pycharm": {
     "name": "#%%\n"
    }
   },
   "outputs": [],
   "source": [
    "sample.channels"
   ]
  },
  {
   "cell_type": "code",
   "execution_count": null,
   "metadata": {
    "pycharm": {
     "name": "#%%\n"
    }
   },
   "outputs": [],
   "source": [
    "f = sample.plot_scatter('channel_A', 'channel_B', source='raw')\n",
    "show(f)"
   ]
  },
  {
   "cell_type": "code",
   "execution_count": null,
   "metadata": {
    "pycharm": {
     "name": "#%%\n"
    }
   },
   "outputs": [],
   "source": [
    "chan_a_idx = sample.get_channel_index('channel_A')\n",
    "events_a = sample.get_channel_events(chan_a_idx, 'raw')"
   ]
  },
  {
   "cell_type": "code",
   "execution_count": null,
   "metadata": {
    "pycharm": {
     "name": "#%%\n"
    }
   },
   "outputs": [],
   "source": [
    "events_a.shape"
   ]
  },
  {
   "cell_type": "code",
   "execution_count": null,
   "metadata": {
    "pycharm": {
     "name": "#%%\n"
    }
   },
   "outputs": [],
   "source": [
    "events_a.min(), events_a.max()"
   ]
  },
  {
   "cell_type": "code",
   "execution_count": null,
   "metadata": {
    "pycharm": {
     "name": "#%%\n"
    }
   },
   "outputs": [],
   "source": [
    "g_strat = fk.GatingStrategy()"
   ]
  },
  {
   "cell_type": "markdown",
   "metadata": {
    "pycharm": {
     "name": "#%% md\n"
    }
   },
   "source": [
    "### RectangleGate Class\n",
    "\n",
    "The `RectangleGate` represents a GatingML-2.0 rectangle gate, which covers rectangles (2-D), hyper-rectangles (>2-D), and the \"range\" gate (1-D). A RectangleGate must have one or more dimensions, and each dimension must specify at least one of a minimum or maximum value (or both).\n",
    "\n",
    "In the 1-D case, a single `Dimension` instance must be provided and include one or both of a `range_min` or `range_max` value. If only one is given the range is open-ended, with the minimum range being inclusive of the min value, and the maximum range being exclusive of the max value. For example, if only a `range_min` of 1000 is provided, the gate will include events >= `range_min`. If only a `range_max` value is provided, the gate will include events < `range_max`.\n",
    "\n",
    "In the 2-D case, the same rules apply. Given 2 `Dimension` instances, the gate can still be open-ended in one of each of the dimensions. Only if both `min_range` and `max_range` are provided in both dimensions will a true rectangular gate be defined. The same logic applies for the hyper-rectangle in 3 or more dimensions."
   ]
  },
  {
   "cell_type": "markdown",
   "metadata": {
    "pycharm": {
     "name": "#%% md\n"
    }
   },
   "source": [
    "Let's create an open-ended `RectangleGate` to inlude the top left side of the diamond"
   ]
  },
  {
   "cell_type": "code",
   "execution_count": null,
   "metadata": {
    "pycharm": {
     "name": "#%%\n"
    }
   },
   "outputs": [],
   "source": [
    "# neither dimension needs compensation or transformation, so we'll use the defaults for those arguments\n",
    "dim_a = fk.Dimension('channel_A', range_max=50000)\n",
    "dim_b = fk.Dimension('channel_B', range_min=50000)"
   ]
  },
  {
   "cell_type": "code",
   "execution_count": null,
   "metadata": {
    "pycharm": {
     "name": "#%%\n"
    }
   },
   "outputs": [],
   "source": [
    "rect_top_left_gate = fk.gates.RectangleGate('top-left', parent_gate_name=None, dimensions=[dim_a, dim_b])"
   ]
  },
  {
   "cell_type": "code",
   "execution_count": null,
   "metadata": {
    "pycharm": {
     "name": "#%%\n"
    }
   },
   "outputs": [],
   "source": [
    "g_strat.add_gate(rect_top_left_gate)"
   ]
  },
  {
   "cell_type": "markdown",
   "metadata": {
    "pycharm": {
     "name": "#%% md\n"
    }
   },
   "source": [
    "The gate has been added to our gating strategy, and we expect ~25% of the events to be included within the gate. Let's apply the gate to our sample and look at the results."
   ]
  },
  {
   "cell_type": "code",
   "execution_count": null,
   "metadata": {
    "pycharm": {
     "name": "#%%\n"
    }
   },
   "outputs": [],
   "source": [
    "res = g_strat.gate_sample(sample)"
   ]
  },
  {
   "cell_type": "code",
   "execution_count": null,
   "metadata": {
    "pycharm": {
     "name": "#%%\n"
    }
   },
   "outputs": [],
   "source": [
    "res.report"
   ]
  },
  {
   "cell_type": "markdown",
   "metadata": {
    "pycharm": {
     "name": "#%% md\n"
    }
   },
   "source": [
    "And we have ~25%, the extra 1 event is due to the inclusive limit of the `range_min` value in `dim_b`."
   ]
  },
  {
   "cell_type": "markdown",
   "metadata": {
    "pycharm": {
     "name": "#%% md\n"
    }
   },
   "source": [
    "### PolygonGate Class\n",
    "\n",
    "The `PolygonGate` represents a GatingML-2.0 polygon gate, which is a closed polygon defined in exactly 2 dimensions. The vertices of the `PolygonGate` are defined by a list of `Vertex` instances."
   ]
  },
  {
   "cell_type": "markdown",
   "metadata": {
    "pycharm": {
     "name": "#%% md\n"
    }
   },
   "source": [
    "Let's make a child `PolygonGate` under the previous `RectangleGate`, then add to the gating strategy and re-process our `Sample`. "
   ]
  },
  {
   "cell_type": "code",
   "execution_count": null,
   "metadata": {
    "pycharm": {
     "name": "#%%\n"
    }
   },
   "outputs": [],
   "source": [
    "v1 = fk.Vertex((25000, 75000))\n",
    "v2 = fk.Vertex((50000, 75000))\n",
    "v3 = fk.Vertex((50000, 100000))\n",
    "v4 = fk.Vertex((25000, 100000))\n",
    "\n",
    "vertices = [v1, v2, v3, v4]\n",
    "\n",
    "poly_gate = fk.gates.PolygonGate(\n",
    "    'poly1', \n",
    "    parent_gate_name='top-left', \n",
    "    dimensions=[dim_a, dim_b],\n",
    "    vertices=vertices\n",
    ")"
   ]
  },
  {
   "cell_type": "code",
   "execution_count": null,
   "metadata": {
    "pycharm": {
     "name": "#%%\n"
    }
   },
   "outputs": [],
   "source": [
    "g_strat.add_gate(poly_gate)\n",
    "res = g_strat.gate_sample(sample)"
   ]
  },
  {
   "cell_type": "code",
   "execution_count": null,
   "metadata": {
    "pycharm": {
     "name": "#%%\n"
    }
   },
   "outputs": [],
   "source": [
    "res.report"
   ]
  },
  {
   "cell_type": "markdown",
   "metadata": {
    "pycharm": {
     "name": "#%% md\n"
    }
   },
   "source": [
    "### EllipsoidGate Class\n",
    "\n",
    "The `EllipsoidGate` represents a GatingML-2.0 ellipsoid gate, which is an ellipsoid defined in 2 or more dimensions. To define an `EllipsoidGate`, we must specify the ellipsoid's mean value (center of the ellipsoid), its covariance matrix (defining the shape and orientation), and a distance square (the square of the Mahalanobis distance, defining its size)"
   ]
  },
  {
   "cell_type": "markdown",
   "metadata": {
    "pycharm": {
     "name": "#%% md\n"
    }
   },
   "source": [
    "Let's define a 2-D ellipse at the root level around the right corner of of the diamond. "
   ]
  },
  {
   "cell_type": "code",
   "execution_count": null,
   "metadata": {
    "pycharm": {
     "name": "#%%\n"
    }
   },
   "outputs": [],
   "source": [
    "center = (100000, 50000)\n",
    "cov = [[5000**2, 0], [0, 5000**2]]\n",
    "dist = 1\n",
    "\n",
    "ellipse_gate = fk.gates.EllipsoidGate(\n",
    "    'ellipse1', \n",
    "    parent_gate_name=None, \n",
    "    dimensions=[dim_a, dim_b], \n",
    "    coordinates=center,\n",
    "    covariance_matrix=cov,\n",
    "    distance_square=dist\n",
    ")"
   ]
  },
  {
   "cell_type": "code",
   "execution_count": null,
   "metadata": {
    "pycharm": {
     "name": "#%%\n"
    }
   },
   "outputs": [],
   "source": [
    "g_strat.add_gate(ellipse_gate)\n",
    "res = g_strat.gate_sample(sample)"
   ]
  },
  {
   "cell_type": "code",
   "execution_count": null,
   "metadata": {
    "pycharm": {
     "name": "#%%\n"
    }
   },
   "outputs": [],
   "source": [
    "res.report"
   ]
  },
  {
   "cell_type": "markdown",
   "metadata": {
    "pycharm": {
     "name": "#%% md\n"
    }
   },
   "source": [
    "### QuadrantGate Class\n",
    "\n",
    "The `QuadrantGate` represents a GatingML-2.0 quadrant gate. Quadrant gates are different from other gate types in that they are actually a collection of gates (quadrants), though even the term quadrant is misleading as they can divide a plane into more than 4 sections. A `QuadrantGate` must have at least 1 divider, and must specify the label of the resulting quadrants the dividers produce.\n",
    "\n",
    "To construct a `QuadrantGate`, we need to introduce to new helper classes: the `QuadrantDivider` and the `Quadrant`. We'll see how to put it all together below to make a `QuadrantGate` that divides the diamond into its 4 sides.\n",
    "\n",
    "**Note: When retrieving a single Quadrant from the GatingStrategy method `get_gate`, the owning QuadrantGate will be returned. A single quadrant isn't technically a gate and has no parent reference.**"
   ]
  },
  {
   "cell_type": "code",
   "execution_count": null,
   "metadata": {
    "pycharm": {
     "name": "#%%\n"
    }
   },
   "outputs": [],
   "source": [
    "# QuadrantDivider instances are similar a Dimension, they take compensation_ref and tranformation_ref\n",
    "# arguments. However, we'll use the defaults here of 'uncompensated' & None.\n",
    "quad_div1 = fk.QuadrantDivider(\n",
    "    'chan-a-div',\n",
    "    'channel_A',\n",
    "    compensation_ref='uncompensated', \n",
    "    transformation_ref=None, \n",
    "    values=[50000]\n",
    ")\n",
    "quad_div2 = fk.QuadrantDivider(\n",
    "    'chan-b-div', \n",
    "    'channel_B',\n",
    "    compensation_ref='uncompensated', \n",
    "    transformation_ref=None, \n",
    "    values=[50000]\n",
    ")\n",
    "quad_divs = [quad_div1, quad_div2]\n",
    "\n",
    "# the 2 dividers above will be used to divide the space into 4 quadrants\n",
    "quad_1 = fk.gates.Quadrant(\n",
    "    quadrant_id='chanApos-chanBpos',\n",
    "    divider_refs=['chan-a-div', 'chan-b-div'],\n",
    "    divider_ranges=[(50000, None), (50000, None)]\n",
    ")\n",
    "quad_2 = fk.gates.Quadrant(\n",
    "    quadrant_id='chanApos-chanBneg',\n",
    "    divider_refs=['chan-a-div', 'chan-b-div'],\n",
    "    divider_ranges=[(50000, None), (None, 50000)]\n",
    ")\n",
    "quad_3 = fk.gates.Quadrant(\n",
    "    quadrant_id='chanAneg-chanBpos',\n",
    "    divider_refs=['chan-a-div', 'chan-b-div'],\n",
    "    divider_ranges=[(None, 50000), (50000, None)]\n",
    ")\n",
    "quad_4 = fk.gates.Quadrant(\n",
    "    quadrant_id='chanAneg-chanBneg',\n",
    "    divider_refs=['chan-a-div', 'chan-b-div'],\n",
    "    divider_ranges=[(None, 50000), (None, 50000)]\n",
    ")\n",
    "quadrants = [quad_1, quad_2, quad_3, quad_4]\n",
    "\n",
    "# We can now construct our QuadrantGate\n",
    "quad_gate1 = fk.gates.QuadrantGate(\n",
    "    'quadgate1', \n",
    "    parent_gate_name=None, \n",
    "    dividers=quad_divs, \n",
    "    quadrants=quadrants\n",
    ")"
   ]
  },
  {
   "cell_type": "code",
   "execution_count": null,
   "metadata": {
    "pycharm": {
     "name": "#%%\n"
    }
   },
   "outputs": [],
   "source": [
    "g_strat.add_gate(quad_gate1)\n",
    "res = g_strat.gate_sample(sample)"
   ]
  },
  {
   "cell_type": "code",
   "execution_count": null,
   "metadata": {
    "pycharm": {
     "name": "#%%\n"
    }
   },
   "outputs": [],
   "source": [
    "res.report"
   ]
  },
  {
   "cell_type": "markdown",
   "metadata": {
    "pycharm": {
     "name": "#%% md\n"
    }
   },
   "source": [
    "### BooleanGate Class\n",
    "\n",
    "The `BooleanGate` represents a GatingML-2.0 Boolean gate, and performs the boolean operations AND, OR, or NOT on one or more other gates. Note, the boolean operation XOR is not supported in the GatingML specification but can be implemented using a combination of the supported operations.\n",
    "\n",
    "Let's create a boolean gate from our ellipse and top right quadrant of the quadrant gate."
   ]
  }
 ],
 "metadata": {
  "kernelspec": {
   "display_name": "Python 3 (ipykernel)",
   "language": "python",
   "name": "python3"
  },
  "language_info": {
   "codemirror_mode": {
    "name": "ipython",
    "version": 3
   },
   "file_extension": ".py",
   "mimetype": "text/x-python",
   "name": "python",
   "nbconvert_exporter": "python",
   "pygments_lexer": "ipython3",
   "version": "3.10.4"
  }
 },
 "nbformat": 4,
 "nbformat_minor": 2
}